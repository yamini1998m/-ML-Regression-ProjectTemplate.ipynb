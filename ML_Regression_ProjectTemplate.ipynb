{
  "nbformat": 4,
  "nbformat_minor": 0,
  "metadata": {
    "colab": {
      "provenance": [],
      "authorship_tag": "ABX9TyNR+4OQHAKlo95L5JZTEn7t",
      "include_colab_link": true
    },
    "kernelspec": {
      "name": "python3",
      "display_name": "Python 3"
    },
    "language_info": {
      "name": "python"
    }
  },
  "cells": [
    {
      "cell_type": "markdown",
      "metadata": {
        "id": "view-in-github",
        "colab_type": "text"
      },
      "source": [
        "<a href=\"https://colab.research.google.com/github/yamini1998m/-ML-Regression-ProjectTemplate.ipynb/blob/main/ML_Regression_ProjectTemplate.ipynb\" target=\"_parent\"><img src=\"https://colab.research.google.com/assets/colab-badge.svg\" alt=\"Open In Colab\"/></a>"
      ]
    },
    {
      "cell_type": "markdown",
      "source": [
        "# **Project Name**    -Retail Sales Prediction\n",
        "\n"
      ],
      "metadata": {
        "id": "vncDsAP0Gaoa"
      }
    },
    {
      "cell_type": "markdown",
      "source": [
        "\n",
        "\n",
        "```\n",
        "\n",
        "```\n",
        "\n",
        "##### **Project Type**    - Regression\n",
        "##### **Contribution**    - Individual\n",
        "##### **Project Name**    -Retail Sales Prediction\n",
        "##### **Member** - Yamini Mehendwariya"
      ],
      "metadata": {
        "id": "beRrZCGUAJYm"
      }
    },
    {
      "cell_type": "markdown",
      "source": [
        "# **Project Summary -**"
      ],
      "metadata": {
        "id": "FJNUwmbgGyua"
      }
    },
    {
      "cell_type": "markdown",
      "source": [
        "Rossmann operates over 3,000 drug stores in 7 European countries. Currently, Rossmann store managers are tasked with predicting their daily sales for up to six weeks in advance. Store sales are influenced by many factors, including promotions, competition, school and state holidays, seasonality, and locality. With thousands of individual managers predicting sales based on their unique circumstances, the accuracy of results can be quite varied.\n",
        "You are provided with historical sales data for 1,115 Rossmann stores. The task is to forecast the \"Sales\" column for the test set. Note that some stores in the dataset were temporarily closed for refurbishment."
      ],
      "metadata": {
        "id": "F6v_1wHtG2nS"
      }
    },
    {
      "cell_type": "markdown",
      "source": [
        "# **GitHub Link -**"
      ],
      "metadata": {
        "id": "w6K7xa23Elo4"
      }
    },
    {
      "cell_type": "markdown",
      "source": [
        "https://github.com/yamini1998m/-ML-Regression-ProjectTemplate.ipynb"
      ],
      "metadata": {
        "id": "h1o69JH3Eqqn"
      }
    },
    {
      "cell_type": "markdown",
      "source": [
        "# **General Guidelines** : -  "
      ],
      "metadata": {
        "id": "mDgbUHAGgjLW"
      }
    },
    {
      "cell_type": "markdown",
      "source": [
        "1.   Well-structured, formatted, and commented code is required.\n",
        "2.   Exception Handling, Production Grade Code & Deployment Ready Code will be a plus. Those students will be awarded some additional credits.\n",
        "     \n",
        "     The additional credits will have advantages over other students during Star Student selection.\n",
        "       \n",
        "             [ Note: - Deployment Ready Code is defined as, the whole .ipynb notebook should be executable in one go\n",
        "                       without a single error logged. ]\n",
        "\n",
        "3.   Each and every logic should have proper comments.\n",
        "4. You may add as many number of charts you want. Make Sure for each and every chart the following format should be answered.\n",
        "        \n",
        "\n",
        "```\n",
        "# Chart visualization code\n",
        "```\n",
        "            \n",
        "\n",
        "*   Why did you pick the specific chart?\n",
        "*   What is/are the insight(s) found from the chart?\n",
        "* Will the gained insights help creating a positive business impact?\n",
        "Are there any insights that lead to negative growth? Justify with specific reason.\n",
        "\n",
        "5. You have to create at least 15 logical & meaningful charts having important insights.\n",
        "\n",
        "\n",
        "[ Hints : - Do the Vizualization in  a structured way while following \"UBM\" Rule.\n",
        "\n",
        "U - Univariate Analysis,\n",
        "\n",
        "B - Bivariate Analysis (Numerical - Categorical, Numerical - Numerical, Categorical - Categorical)\n",
        "\n",
        "M - Multivariate Analysis\n",
        " ]\n",
        "\n",
        "\n",
        "\n",
        "\n",
        "\n",
        "6. You may add more ml algorithms for model creation. Make sure for each and every algorithm, the following format should be answered.\n",
        "\n",
        "\n",
        "*   Explain the ML Model used and it's performance using Evaluation metric Score Chart.\n",
        "\n",
        "\n",
        "*   Cross- Validation & Hyperparameter Tuning\n",
        "\n",
        "*   Have you seen any improvement? Note down the improvement with updates Evaluation metric Score Chart.\n",
        "\n",
        "*   Explain each evaluation metric's indication towards business and the business impact pf the ML model used.\n",
        "\n",
        "\n",
        "\n",
        "\n",
        "\n",
        "\n",
        "\n",
        "\n",
        "\n",
        "\n",
        "\n",
        "\n",
        "\n",
        "\n",
        "\n",
        "\n",
        "\n",
        "\n"
      ],
      "metadata": {
        "id": "ZrxVaUj-hHfC"
      }
    },
    {
      "cell_type": "markdown",
      "source": [
        "# ***Let's Begin !***"
      ],
      "metadata": {
        "id": "O_i_v8NEhb9l"
      }
    },
    {
      "cell_type": "markdown",
      "source": [
        "## ***1. Know Your Data***"
      ],
      "metadata": {
        "id": "HhfV-JJviCcP"
      }
    },
    {
      "cell_type": "markdown",
      "source": [
        "### Import Libraries"
      ],
      "metadata": {
        "id": "Y3lxredqlCYt"
      }
    },
    {
      "cell_type": "code",
      "source": [
        "# Import Libraries\n",
        "import numpy as np\n",
        "import pandas as pd\n",
        "import matplotlib.pyplot as plt\n",
        "import seaborn as sns\n",
        "import pylab\n",
        "from scipy import stats\n",
        "\n"
      ],
      "metadata": {
        "id": "M8Vqi-pPk-HR"
      },
      "execution_count": 1,
      "outputs": []
    },
    {
      "cell_type": "markdown",
      "source": [
        "### Dataset Loading"
      ],
      "metadata": {
        "id": "3RnN4peoiCZX"
      }
    },
    {
      "cell_type": "code",
      "source": [
        "# Load Dataset\n",
        "from google.colab import drive\n",
        "drive.mount(\"/content/drive\")\n"
      ],
      "metadata": {
        "id": "4CkvbW_SlZ_R",
        "colab": {
          "base_uri": "https://localhost:8080/"
        },
        "outputId": "7df1346c-ce2d-461e-bb85-bf63948a0ff6"
      },
      "execution_count": 2,
      "outputs": [
        {
          "output_type": "stream",
          "name": "stdout",
          "text": [
            "Mounted at /content/drive\n"
          ]
        }
      ]
    },
    {
      "cell_type": "markdown",
      "source": [
        "### Dataset First View"
      ],
      "metadata": {
        "id": "x71ZqKXriCWQ"
      }
    },
    {
      "cell_type": "code",
      "source": [
        "# Dataset First Look\n",
        "store_data=pd.read_csv('/content/drive/MyDrive/store.csv')\n",
        "rosemaan_data=pd.read_csv('/content/drive/MyDrive/Rossmann Stores Data.csv')\n",
        "store_data.head()"
      ],
      "metadata": {
        "id": "LWNFOSvLl09H",
        "colab": {
          "base_uri": "https://localhost:8080/",
          "height": 241
        },
        "outputId": "e1974f94-f03d-4bed-d588-aa49cdeb2f45"
      },
      "execution_count": 3,
      "outputs": [
        {
          "output_type": "stream",
          "name": "stderr",
          "text": [
            "<ipython-input-3-ae69a59a0649>:3: DtypeWarning: Columns (7) have mixed types. Specify dtype option on import or set low_memory=False.\n",
            "  rosemaan_data=pd.read_csv('/content/drive/MyDrive/Rossmann Stores Data.csv')\n"
          ]
        },
        {
          "output_type": "execute_result",
          "data": {
            "text/plain": [
              "   Store StoreType Assortment  CompetitionDistance  CompetitionOpenSinceMonth  \\\n",
              "0      1         c          a               1270.0                        9.0   \n",
              "1      2         a          a                570.0                       11.0   \n",
              "2      3         a          a              14130.0                       12.0   \n",
              "3      4         c          c                620.0                        9.0   \n",
              "4      5         a          a              29910.0                        4.0   \n",
              "\n",
              "   CompetitionOpenSinceYear  Promo2  Promo2SinceWeek  Promo2SinceYear  \\\n",
              "0                    2008.0       0              NaN              NaN   \n",
              "1                    2007.0       1             13.0           2010.0   \n",
              "2                    2006.0       1             14.0           2011.0   \n",
              "3                    2009.0       0              NaN              NaN   \n",
              "4                    2015.0       0              NaN              NaN   \n",
              "\n",
              "     PromoInterval  \n",
              "0              NaN  \n",
              "1  Jan,Apr,Jul,Oct  \n",
              "2  Jan,Apr,Jul,Oct  \n",
              "3              NaN  \n",
              "4              NaN  "
            ],
            "text/html": [
              "\n",
              "  <div id=\"df-14165729-c464-4a3b-88e5-ae9774ae2d5c\" class=\"colab-df-container\">\n",
              "    <div>\n",
              "<style scoped>\n",
              "    .dataframe tbody tr th:only-of-type {\n",
              "        vertical-align: middle;\n",
              "    }\n",
              "\n",
              "    .dataframe tbody tr th {\n",
              "        vertical-align: top;\n",
              "    }\n",
              "\n",
              "    .dataframe thead th {\n",
              "        text-align: right;\n",
              "    }\n",
              "</style>\n",
              "<table border=\"1\" class=\"dataframe\">\n",
              "  <thead>\n",
              "    <tr style=\"text-align: right;\">\n",
              "      <th></th>\n",
              "      <th>Store</th>\n",
              "      <th>StoreType</th>\n",
              "      <th>Assortment</th>\n",
              "      <th>CompetitionDistance</th>\n",
              "      <th>CompetitionOpenSinceMonth</th>\n",
              "      <th>CompetitionOpenSinceYear</th>\n",
              "      <th>Promo2</th>\n",
              "      <th>Promo2SinceWeek</th>\n",
              "      <th>Promo2SinceYear</th>\n",
              "      <th>PromoInterval</th>\n",
              "    </tr>\n",
              "  </thead>\n",
              "  <tbody>\n",
              "    <tr>\n",
              "      <th>0</th>\n",
              "      <td>1</td>\n",
              "      <td>c</td>\n",
              "      <td>a</td>\n",
              "      <td>1270.0</td>\n",
              "      <td>9.0</td>\n",
              "      <td>2008.0</td>\n",
              "      <td>0</td>\n",
              "      <td>NaN</td>\n",
              "      <td>NaN</td>\n",
              "      <td>NaN</td>\n",
              "    </tr>\n",
              "    <tr>\n",
              "      <th>1</th>\n",
              "      <td>2</td>\n",
              "      <td>a</td>\n",
              "      <td>a</td>\n",
              "      <td>570.0</td>\n",
              "      <td>11.0</td>\n",
              "      <td>2007.0</td>\n",
              "      <td>1</td>\n",
              "      <td>13.0</td>\n",
              "      <td>2010.0</td>\n",
              "      <td>Jan,Apr,Jul,Oct</td>\n",
              "    </tr>\n",
              "    <tr>\n",
              "      <th>2</th>\n",
              "      <td>3</td>\n",
              "      <td>a</td>\n",
              "      <td>a</td>\n",
              "      <td>14130.0</td>\n",
              "      <td>12.0</td>\n",
              "      <td>2006.0</td>\n",
              "      <td>1</td>\n",
              "      <td>14.0</td>\n",
              "      <td>2011.0</td>\n",
              "      <td>Jan,Apr,Jul,Oct</td>\n",
              "    </tr>\n",
              "    <tr>\n",
              "      <th>3</th>\n",
              "      <td>4</td>\n",
              "      <td>c</td>\n",
              "      <td>c</td>\n",
              "      <td>620.0</td>\n",
              "      <td>9.0</td>\n",
              "      <td>2009.0</td>\n",
              "      <td>0</td>\n",
              "      <td>NaN</td>\n",
              "      <td>NaN</td>\n",
              "      <td>NaN</td>\n",
              "    </tr>\n",
              "    <tr>\n",
              "      <th>4</th>\n",
              "      <td>5</td>\n",
              "      <td>a</td>\n",
              "      <td>a</td>\n",
              "      <td>29910.0</td>\n",
              "      <td>4.0</td>\n",
              "      <td>2015.0</td>\n",
              "      <td>0</td>\n",
              "      <td>NaN</td>\n",
              "      <td>NaN</td>\n",
              "      <td>NaN</td>\n",
              "    </tr>\n",
              "  </tbody>\n",
              "</table>\n",
              "</div>\n",
              "    <div class=\"colab-df-buttons\">\n",
              "\n",
              "  <div class=\"colab-df-container\">\n",
              "    <button class=\"colab-df-convert\" onclick=\"convertToInteractive('df-14165729-c464-4a3b-88e5-ae9774ae2d5c')\"\n",
              "            title=\"Convert this dataframe to an interactive table.\"\n",
              "            style=\"display:none;\">\n",
              "\n",
              "  <svg xmlns=\"http://www.w3.org/2000/svg\" height=\"24px\" viewBox=\"0 -960 960 960\">\n",
              "    <path d=\"M120-120v-720h720v720H120Zm60-500h600v-160H180v160Zm220 220h160v-160H400v160Zm0 220h160v-160H400v160ZM180-400h160v-160H180v160Zm440 0h160v-160H620v160ZM180-180h160v-160H180v160Zm440 0h160v-160H620v160Z\"/>\n",
              "  </svg>\n",
              "    </button>\n",
              "\n",
              "  <style>\n",
              "    .colab-df-container {\n",
              "      display:flex;\n",
              "      gap: 12px;\n",
              "    }\n",
              "\n",
              "    .colab-df-convert {\n",
              "      background-color: #E8F0FE;\n",
              "      border: none;\n",
              "      border-radius: 50%;\n",
              "      cursor: pointer;\n",
              "      display: none;\n",
              "      fill: #1967D2;\n",
              "      height: 32px;\n",
              "      padding: 0 0 0 0;\n",
              "      width: 32px;\n",
              "    }\n",
              "\n",
              "    .colab-df-convert:hover {\n",
              "      background-color: #E2EBFA;\n",
              "      box-shadow: 0px 1px 2px rgba(60, 64, 67, 0.3), 0px 1px 3px 1px rgba(60, 64, 67, 0.15);\n",
              "      fill: #174EA6;\n",
              "    }\n",
              "\n",
              "    .colab-df-buttons div {\n",
              "      margin-bottom: 4px;\n",
              "    }\n",
              "\n",
              "    [theme=dark] .colab-df-convert {\n",
              "      background-color: #3B4455;\n",
              "      fill: #D2E3FC;\n",
              "    }\n",
              "\n",
              "    [theme=dark] .colab-df-convert:hover {\n",
              "      background-color: #434B5C;\n",
              "      box-shadow: 0px 1px 3px 1px rgba(0, 0, 0, 0.15);\n",
              "      filter: drop-shadow(0px 1px 2px rgba(0, 0, 0, 0.3));\n",
              "      fill: #FFFFFF;\n",
              "    }\n",
              "  </style>\n",
              "\n",
              "    <script>\n",
              "      const buttonEl =\n",
              "        document.querySelector('#df-14165729-c464-4a3b-88e5-ae9774ae2d5c button.colab-df-convert');\n",
              "      buttonEl.style.display =\n",
              "        google.colab.kernel.accessAllowed ? 'block' : 'none';\n",
              "\n",
              "      async function convertToInteractive(key) {\n",
              "        const element = document.querySelector('#df-14165729-c464-4a3b-88e5-ae9774ae2d5c');\n",
              "        const dataTable =\n",
              "          await google.colab.kernel.invokeFunction('convertToInteractive',\n",
              "                                                    [key], {});\n",
              "        if (!dataTable) return;\n",
              "\n",
              "        const docLinkHtml = 'Like what you see? Visit the ' +\n",
              "          '<a target=\"_blank\" href=https://colab.research.google.com/notebooks/data_table.ipynb>data table notebook</a>'\n",
              "          + ' to learn more about interactive tables.';\n",
              "        element.innerHTML = '';\n",
              "        dataTable['output_type'] = 'display_data';\n",
              "        await google.colab.output.renderOutput(dataTable, element);\n",
              "        const docLink = document.createElement('div');\n",
              "        docLink.innerHTML = docLinkHtml;\n",
              "        element.appendChild(docLink);\n",
              "      }\n",
              "    </script>\n",
              "  </div>\n",
              "\n",
              "\n",
              "<div id=\"df-35e29155-8c62-4364-b8ae-48379c8f971e\">\n",
              "  <button class=\"colab-df-quickchart\" onclick=\"quickchart('df-35e29155-8c62-4364-b8ae-48379c8f971e')\"\n",
              "            title=\"Suggest charts.\"\n",
              "            style=\"display:none;\">\n",
              "\n",
              "<svg xmlns=\"http://www.w3.org/2000/svg\" height=\"24px\"viewBox=\"0 0 24 24\"\n",
              "     width=\"24px\">\n",
              "    <g>\n",
              "        <path d=\"M19 3H5c-1.1 0-2 .9-2 2v14c0 1.1.9 2 2 2h14c1.1 0 2-.9 2-2V5c0-1.1-.9-2-2-2zM9 17H7v-7h2v7zm4 0h-2V7h2v10zm4 0h-2v-4h2v4z\"/>\n",
              "    </g>\n",
              "</svg>\n",
              "  </button>\n",
              "\n",
              "<style>\n",
              "  .colab-df-quickchart {\n",
              "      --bg-color: #E8F0FE;\n",
              "      --fill-color: #1967D2;\n",
              "      --hover-bg-color: #E2EBFA;\n",
              "      --hover-fill-color: #174EA6;\n",
              "      --disabled-fill-color: #AAA;\n",
              "      --disabled-bg-color: #DDD;\n",
              "  }\n",
              "\n",
              "  [theme=dark] .colab-df-quickchart {\n",
              "      --bg-color: #3B4455;\n",
              "      --fill-color: #D2E3FC;\n",
              "      --hover-bg-color: #434B5C;\n",
              "      --hover-fill-color: #FFFFFF;\n",
              "      --disabled-bg-color: #3B4455;\n",
              "      --disabled-fill-color: #666;\n",
              "  }\n",
              "\n",
              "  .colab-df-quickchart {\n",
              "    background-color: var(--bg-color);\n",
              "    border: none;\n",
              "    border-radius: 50%;\n",
              "    cursor: pointer;\n",
              "    display: none;\n",
              "    fill: var(--fill-color);\n",
              "    height: 32px;\n",
              "    padding: 0;\n",
              "    width: 32px;\n",
              "  }\n",
              "\n",
              "  .colab-df-quickchart:hover {\n",
              "    background-color: var(--hover-bg-color);\n",
              "    box-shadow: 0 1px 2px rgba(60, 64, 67, 0.3), 0 1px 3px 1px rgba(60, 64, 67, 0.15);\n",
              "    fill: var(--button-hover-fill-color);\n",
              "  }\n",
              "\n",
              "  .colab-df-quickchart-complete:disabled,\n",
              "  .colab-df-quickchart-complete:disabled:hover {\n",
              "    background-color: var(--disabled-bg-color);\n",
              "    fill: var(--disabled-fill-color);\n",
              "    box-shadow: none;\n",
              "  }\n",
              "\n",
              "  .colab-df-spinner {\n",
              "    border: 2px solid var(--fill-color);\n",
              "    border-color: transparent;\n",
              "    border-bottom-color: var(--fill-color);\n",
              "    animation:\n",
              "      spin 1s steps(1) infinite;\n",
              "  }\n",
              "\n",
              "  @keyframes spin {\n",
              "    0% {\n",
              "      border-color: transparent;\n",
              "      border-bottom-color: var(--fill-color);\n",
              "      border-left-color: var(--fill-color);\n",
              "    }\n",
              "    20% {\n",
              "      border-color: transparent;\n",
              "      border-left-color: var(--fill-color);\n",
              "      border-top-color: var(--fill-color);\n",
              "    }\n",
              "    30% {\n",
              "      border-color: transparent;\n",
              "      border-left-color: var(--fill-color);\n",
              "      border-top-color: var(--fill-color);\n",
              "      border-right-color: var(--fill-color);\n",
              "    }\n",
              "    40% {\n",
              "      border-color: transparent;\n",
              "      border-right-color: var(--fill-color);\n",
              "      border-top-color: var(--fill-color);\n",
              "    }\n",
              "    60% {\n",
              "      border-color: transparent;\n",
              "      border-right-color: var(--fill-color);\n",
              "    }\n",
              "    80% {\n",
              "      border-color: transparent;\n",
              "      border-right-color: var(--fill-color);\n",
              "      border-bottom-color: var(--fill-color);\n",
              "    }\n",
              "    90% {\n",
              "      border-color: transparent;\n",
              "      border-bottom-color: var(--fill-color);\n",
              "    }\n",
              "  }\n",
              "</style>\n",
              "\n",
              "  <script>\n",
              "    async function quickchart(key) {\n",
              "      const quickchartButtonEl =\n",
              "        document.querySelector('#' + key + ' button');\n",
              "      quickchartButtonEl.disabled = true;  // To prevent multiple clicks.\n",
              "      quickchartButtonEl.classList.add('colab-df-spinner');\n",
              "      try {\n",
              "        const charts = await google.colab.kernel.invokeFunction(\n",
              "            'suggestCharts', [key], {});\n",
              "      } catch (error) {\n",
              "        console.error('Error during call to suggestCharts:', error);\n",
              "      }\n",
              "      quickchartButtonEl.classList.remove('colab-df-spinner');\n",
              "      quickchartButtonEl.classList.add('colab-df-quickchart-complete');\n",
              "    }\n",
              "    (() => {\n",
              "      let quickchartButtonEl =\n",
              "        document.querySelector('#df-35e29155-8c62-4364-b8ae-48379c8f971e button');\n",
              "      quickchartButtonEl.style.display =\n",
              "        google.colab.kernel.accessAllowed ? 'block' : 'none';\n",
              "    })();\n",
              "  </script>\n",
              "</div>\n",
              "    </div>\n",
              "  </div>\n"
            ]
          },
          "metadata": {},
          "execution_count": 3
        }
      ]
    },
    {
      "cell_type": "code",
      "source": [
        "rosemaan_data.head()"
      ],
      "metadata": {
        "id": "t4RezyxywPhS",
        "colab": {
          "base_uri": "https://localhost:8080/",
          "height": 206
        },
        "outputId": "72b3b60d-5141-409c-adcf-059bca5de1cf"
      },
      "execution_count": 4,
      "outputs": [
        {
          "output_type": "execute_result",
          "data": {
            "text/plain": [
              "   Store  DayOfWeek        Date  Sales  Customers  Open  Promo StateHoliday  \\\n",
              "0      1          5  2015-07-31   5263        555     1      1            0   \n",
              "1      2          5  2015-07-31   6064        625     1      1            0   \n",
              "2      3          5  2015-07-31   8314        821     1      1            0   \n",
              "3      4          5  2015-07-31  13995       1498     1      1            0   \n",
              "4      5          5  2015-07-31   4822        559     1      1            0   \n",
              "\n",
              "   SchoolHoliday  \n",
              "0              1  \n",
              "1              1  \n",
              "2              1  \n",
              "3              1  \n",
              "4              1  "
            ],
            "text/html": [
              "\n",
              "  <div id=\"df-1a9a96c7-b9ad-4625-bd37-66ec7cf72fd8\" class=\"colab-df-container\">\n",
              "    <div>\n",
              "<style scoped>\n",
              "    .dataframe tbody tr th:only-of-type {\n",
              "        vertical-align: middle;\n",
              "    }\n",
              "\n",
              "    .dataframe tbody tr th {\n",
              "        vertical-align: top;\n",
              "    }\n",
              "\n",
              "    .dataframe thead th {\n",
              "        text-align: right;\n",
              "    }\n",
              "</style>\n",
              "<table border=\"1\" class=\"dataframe\">\n",
              "  <thead>\n",
              "    <tr style=\"text-align: right;\">\n",
              "      <th></th>\n",
              "      <th>Store</th>\n",
              "      <th>DayOfWeek</th>\n",
              "      <th>Date</th>\n",
              "      <th>Sales</th>\n",
              "      <th>Customers</th>\n",
              "      <th>Open</th>\n",
              "      <th>Promo</th>\n",
              "      <th>StateHoliday</th>\n",
              "      <th>SchoolHoliday</th>\n",
              "    </tr>\n",
              "  </thead>\n",
              "  <tbody>\n",
              "    <tr>\n",
              "      <th>0</th>\n",
              "      <td>1</td>\n",
              "      <td>5</td>\n",
              "      <td>2015-07-31</td>\n",
              "      <td>5263</td>\n",
              "      <td>555</td>\n",
              "      <td>1</td>\n",
              "      <td>1</td>\n",
              "      <td>0</td>\n",
              "      <td>1</td>\n",
              "    </tr>\n",
              "    <tr>\n",
              "      <th>1</th>\n",
              "      <td>2</td>\n",
              "      <td>5</td>\n",
              "      <td>2015-07-31</td>\n",
              "      <td>6064</td>\n",
              "      <td>625</td>\n",
              "      <td>1</td>\n",
              "      <td>1</td>\n",
              "      <td>0</td>\n",
              "      <td>1</td>\n",
              "    </tr>\n",
              "    <tr>\n",
              "      <th>2</th>\n",
              "      <td>3</td>\n",
              "      <td>5</td>\n",
              "      <td>2015-07-31</td>\n",
              "      <td>8314</td>\n",
              "      <td>821</td>\n",
              "      <td>1</td>\n",
              "      <td>1</td>\n",
              "      <td>0</td>\n",
              "      <td>1</td>\n",
              "    </tr>\n",
              "    <tr>\n",
              "      <th>3</th>\n",
              "      <td>4</td>\n",
              "      <td>5</td>\n",
              "      <td>2015-07-31</td>\n",
              "      <td>13995</td>\n",
              "      <td>1498</td>\n",
              "      <td>1</td>\n",
              "      <td>1</td>\n",
              "      <td>0</td>\n",
              "      <td>1</td>\n",
              "    </tr>\n",
              "    <tr>\n",
              "      <th>4</th>\n",
              "      <td>5</td>\n",
              "      <td>5</td>\n",
              "      <td>2015-07-31</td>\n",
              "      <td>4822</td>\n",
              "      <td>559</td>\n",
              "      <td>1</td>\n",
              "      <td>1</td>\n",
              "      <td>0</td>\n",
              "      <td>1</td>\n",
              "    </tr>\n",
              "  </tbody>\n",
              "</table>\n",
              "</div>\n",
              "    <div class=\"colab-df-buttons\">\n",
              "\n",
              "  <div class=\"colab-df-container\">\n",
              "    <button class=\"colab-df-convert\" onclick=\"convertToInteractive('df-1a9a96c7-b9ad-4625-bd37-66ec7cf72fd8')\"\n",
              "            title=\"Convert this dataframe to an interactive table.\"\n",
              "            style=\"display:none;\">\n",
              "\n",
              "  <svg xmlns=\"http://www.w3.org/2000/svg\" height=\"24px\" viewBox=\"0 -960 960 960\">\n",
              "    <path d=\"M120-120v-720h720v720H120Zm60-500h600v-160H180v160Zm220 220h160v-160H400v160Zm0 220h160v-160H400v160ZM180-400h160v-160H180v160Zm440 0h160v-160H620v160ZM180-180h160v-160H180v160Zm440 0h160v-160H620v160Z\"/>\n",
              "  </svg>\n",
              "    </button>\n",
              "\n",
              "  <style>\n",
              "    .colab-df-container {\n",
              "      display:flex;\n",
              "      gap: 12px;\n",
              "    }\n",
              "\n",
              "    .colab-df-convert {\n",
              "      background-color: #E8F0FE;\n",
              "      border: none;\n",
              "      border-radius: 50%;\n",
              "      cursor: pointer;\n",
              "      display: none;\n",
              "      fill: #1967D2;\n",
              "      height: 32px;\n",
              "      padding: 0 0 0 0;\n",
              "      width: 32px;\n",
              "    }\n",
              "\n",
              "    .colab-df-convert:hover {\n",
              "      background-color: #E2EBFA;\n",
              "      box-shadow: 0px 1px 2px rgba(60, 64, 67, 0.3), 0px 1px 3px 1px rgba(60, 64, 67, 0.15);\n",
              "      fill: #174EA6;\n",
              "    }\n",
              "\n",
              "    .colab-df-buttons div {\n",
              "      margin-bottom: 4px;\n",
              "    }\n",
              "\n",
              "    [theme=dark] .colab-df-convert {\n",
              "      background-color: #3B4455;\n",
              "      fill: #D2E3FC;\n",
              "    }\n",
              "\n",
              "    [theme=dark] .colab-df-convert:hover {\n",
              "      background-color: #434B5C;\n",
              "      box-shadow: 0px 1px 3px 1px rgba(0, 0, 0, 0.15);\n",
              "      filter: drop-shadow(0px 1px 2px rgba(0, 0, 0, 0.3));\n",
              "      fill: #FFFFFF;\n",
              "    }\n",
              "  </style>\n",
              "\n",
              "    <script>\n",
              "      const buttonEl =\n",
              "        document.querySelector('#df-1a9a96c7-b9ad-4625-bd37-66ec7cf72fd8 button.colab-df-convert');\n",
              "      buttonEl.style.display =\n",
              "        google.colab.kernel.accessAllowed ? 'block' : 'none';\n",
              "\n",
              "      async function convertToInteractive(key) {\n",
              "        const element = document.querySelector('#df-1a9a96c7-b9ad-4625-bd37-66ec7cf72fd8');\n",
              "        const dataTable =\n",
              "          await google.colab.kernel.invokeFunction('convertToInteractive',\n",
              "                                                    [key], {});\n",
              "        if (!dataTable) return;\n",
              "\n",
              "        const docLinkHtml = 'Like what you see? Visit the ' +\n",
              "          '<a target=\"_blank\" href=https://colab.research.google.com/notebooks/data_table.ipynb>data table notebook</a>'\n",
              "          + ' to learn more about interactive tables.';\n",
              "        element.innerHTML = '';\n",
              "        dataTable['output_type'] = 'display_data';\n",
              "        await google.colab.output.renderOutput(dataTable, element);\n",
              "        const docLink = document.createElement('div');\n",
              "        docLink.innerHTML = docLinkHtml;\n",
              "        element.appendChild(docLink);\n",
              "      }\n",
              "    </script>\n",
              "  </div>\n",
              "\n",
              "\n",
              "<div id=\"df-df700a49-fcdc-47d0-bd2e-6a3acca24051\">\n",
              "  <button class=\"colab-df-quickchart\" onclick=\"quickchart('df-df700a49-fcdc-47d0-bd2e-6a3acca24051')\"\n",
              "            title=\"Suggest charts.\"\n",
              "            style=\"display:none;\">\n",
              "\n",
              "<svg xmlns=\"http://www.w3.org/2000/svg\" height=\"24px\"viewBox=\"0 0 24 24\"\n",
              "     width=\"24px\">\n",
              "    <g>\n",
              "        <path d=\"M19 3H5c-1.1 0-2 .9-2 2v14c0 1.1.9 2 2 2h14c1.1 0 2-.9 2-2V5c0-1.1-.9-2-2-2zM9 17H7v-7h2v7zm4 0h-2V7h2v10zm4 0h-2v-4h2v4z\"/>\n",
              "    </g>\n",
              "</svg>\n",
              "  </button>\n",
              "\n",
              "<style>\n",
              "  .colab-df-quickchart {\n",
              "      --bg-color: #E8F0FE;\n",
              "      --fill-color: #1967D2;\n",
              "      --hover-bg-color: #E2EBFA;\n",
              "      --hover-fill-color: #174EA6;\n",
              "      --disabled-fill-color: #AAA;\n",
              "      --disabled-bg-color: #DDD;\n",
              "  }\n",
              "\n",
              "  [theme=dark] .colab-df-quickchart {\n",
              "      --bg-color: #3B4455;\n",
              "      --fill-color: #D2E3FC;\n",
              "      --hover-bg-color: #434B5C;\n",
              "      --hover-fill-color: #FFFFFF;\n",
              "      --disabled-bg-color: #3B4455;\n",
              "      --disabled-fill-color: #666;\n",
              "  }\n",
              "\n",
              "  .colab-df-quickchart {\n",
              "    background-color: var(--bg-color);\n",
              "    border: none;\n",
              "    border-radius: 50%;\n",
              "    cursor: pointer;\n",
              "    display: none;\n",
              "    fill: var(--fill-color);\n",
              "    height: 32px;\n",
              "    padding: 0;\n",
              "    width: 32px;\n",
              "  }\n",
              "\n",
              "  .colab-df-quickchart:hover {\n",
              "    background-color: var(--hover-bg-color);\n",
              "    box-shadow: 0 1px 2px rgba(60, 64, 67, 0.3), 0 1px 3px 1px rgba(60, 64, 67, 0.15);\n",
              "    fill: var(--button-hover-fill-color);\n",
              "  }\n",
              "\n",
              "  .colab-df-quickchart-complete:disabled,\n",
              "  .colab-df-quickchart-complete:disabled:hover {\n",
              "    background-color: var(--disabled-bg-color);\n",
              "    fill: var(--disabled-fill-color);\n",
              "    box-shadow: none;\n",
              "  }\n",
              "\n",
              "  .colab-df-spinner {\n",
              "    border: 2px solid var(--fill-color);\n",
              "    border-color: transparent;\n",
              "    border-bottom-color: var(--fill-color);\n",
              "    animation:\n",
              "      spin 1s steps(1) infinite;\n",
              "  }\n",
              "\n",
              "  @keyframes spin {\n",
              "    0% {\n",
              "      border-color: transparent;\n",
              "      border-bottom-color: var(--fill-color);\n",
              "      border-left-color: var(--fill-color);\n",
              "    }\n",
              "    20% {\n",
              "      border-color: transparent;\n",
              "      border-left-color: var(--fill-color);\n",
              "      border-top-color: var(--fill-color);\n",
              "    }\n",
              "    30% {\n",
              "      border-color: transparent;\n",
              "      border-left-color: var(--fill-color);\n",
              "      border-top-color: var(--fill-color);\n",
              "      border-right-color: var(--fill-color);\n",
              "    }\n",
              "    40% {\n",
              "      border-color: transparent;\n",
              "      border-right-color: var(--fill-color);\n",
              "      border-top-color: var(--fill-color);\n",
              "    }\n",
              "    60% {\n",
              "      border-color: transparent;\n",
              "      border-right-color: var(--fill-color);\n",
              "    }\n",
              "    80% {\n",
              "      border-color: transparent;\n",
              "      border-right-color: var(--fill-color);\n",
              "      border-bottom-color: var(--fill-color);\n",
              "    }\n",
              "    90% {\n",
              "      border-color: transparent;\n",
              "      border-bottom-color: var(--fill-color);\n",
              "    }\n",
              "  }\n",
              "</style>\n",
              "\n",
              "  <script>\n",
              "    async function quickchart(key) {\n",
              "      const quickchartButtonEl =\n",
              "        document.querySelector('#' + key + ' button');\n",
              "      quickchartButtonEl.disabled = true;  // To prevent multiple clicks.\n",
              "      quickchartButtonEl.classList.add('colab-df-spinner');\n",
              "      try {\n",
              "        const charts = await google.colab.kernel.invokeFunction(\n",
              "            'suggestCharts', [key], {});\n",
              "      } catch (error) {\n",
              "        console.error('Error during call to suggestCharts:', error);\n",
              "      }\n",
              "      quickchartButtonEl.classList.remove('colab-df-spinner');\n",
              "      quickchartButtonEl.classList.add('colab-df-quickchart-complete');\n",
              "    }\n",
              "    (() => {\n",
              "      let quickchartButtonEl =\n",
              "        document.querySelector('#df-df700a49-fcdc-47d0-bd2e-6a3acca24051 button');\n",
              "      quickchartButtonEl.style.display =\n",
              "        google.colab.kernel.accessAllowed ? 'block' : 'none';\n",
              "    })();\n",
              "  </script>\n",
              "</div>\n",
              "    </div>\n",
              "  </div>\n"
            ]
          },
          "metadata": {},
          "execution_count": 4
        }
      ]
    },
    {
      "cell_type": "markdown",
      "source": [
        "### Dataset Rows & Columns count"
      ],
      "metadata": {
        "id": "7hBIi_osiCS2"
      }
    },
    {
      "cell_type": "code",
      "source": [
        "# Dataset Rows & Columns count\n",
        "store_data.shape\n",
        "\n"
      ],
      "metadata": {
        "id": "Kllu7SJgmLij",
        "colab": {
          "base_uri": "https://localhost:8080/"
        },
        "outputId": "376ba327-a93d-44fe-af8c-0cfa81f77916"
      },
      "execution_count": 5,
      "outputs": [
        {
          "output_type": "execute_result",
          "data": {
            "text/plain": [
              "(1115, 10)"
            ]
          },
          "metadata": {},
          "execution_count": 5
        }
      ]
    },
    {
      "cell_type": "markdown",
      "source": [
        "We came to know that store data contains 1115 values and 10 features"
      ],
      "metadata": {
        "id": "amxuHsLwyo85"
      }
    },
    {
      "cell_type": "code",
      "source": [
        "rosemaan_data.shape"
      ],
      "metadata": {
        "id": "j52b70uyw-BO",
        "colab": {
          "base_uri": "https://localhost:8080/"
        },
        "outputId": "3b132bdb-19da-4459-b707-bacb43fff9c2"
      },
      "execution_count": 6,
      "outputs": [
        {
          "output_type": "execute_result",
          "data": {
            "text/plain": [
              "(1017209, 9)"
            ]
          },
          "metadata": {},
          "execution_count": 6
        }
      ]
    },
    {
      "cell_type": "markdown",
      "source": [
        "we see here that rosemaan dataset consists 1017209 values and 10 features"
      ],
      "metadata": {
        "id": "9rlzJ54P0y8i"
      }
    },
    {
      "cell_type": "markdown",
      "source": [
        "### Dataset Information"
      ],
      "metadata": {
        "id": "JlHwYmJAmNHm"
      }
    },
    {
      "cell_type": "code",
      "source": [
        "# Dataset Info\n",
        "store_data.info()"
      ],
      "metadata": {
        "id": "e9hRXRi6meOf",
        "colab": {
          "base_uri": "https://localhost:8080/"
        },
        "outputId": "3b88e81b-4df2-4eb5-fcc1-3a2ff08a91ed"
      },
      "execution_count": 7,
      "outputs": [
        {
          "output_type": "stream",
          "name": "stdout",
          "text": [
            "<class 'pandas.core.frame.DataFrame'>\n",
            "RangeIndex: 1115 entries, 0 to 1114\n",
            "Data columns (total 10 columns):\n",
            " #   Column                     Non-Null Count  Dtype  \n",
            "---  ------                     --------------  -----  \n",
            " 0   Store                      1115 non-null   int64  \n",
            " 1   StoreType                  1115 non-null   object \n",
            " 2   Assortment                 1115 non-null   object \n",
            " 3   CompetitionDistance        1112 non-null   float64\n",
            " 4   CompetitionOpenSinceMonth  761 non-null    float64\n",
            " 5   CompetitionOpenSinceYear   761 non-null    float64\n",
            " 6   Promo2                     1115 non-null   int64  \n",
            " 7   Promo2SinceWeek            571 non-null    float64\n",
            " 8   Promo2SinceYear            571 non-null    float64\n",
            " 9   PromoInterval              571 non-null    object \n",
            "dtypes: float64(5), int64(2), object(3)\n",
            "memory usage: 87.2+ KB\n"
          ]
        }
      ]
    },
    {
      "cell_type": "code",
      "source": [
        "rosemaan_data.info()"
      ],
      "metadata": {
        "id": "lU2zvFj93igQ",
        "colab": {
          "base_uri": "https://localhost:8080/"
        },
        "outputId": "4ce075e1-f7b8-423d-c065-78a6b3eceb41"
      },
      "execution_count": 8,
      "outputs": [
        {
          "output_type": "stream",
          "name": "stdout",
          "text": [
            "<class 'pandas.core.frame.DataFrame'>\n",
            "RangeIndex: 1017209 entries, 0 to 1017208\n",
            "Data columns (total 9 columns):\n",
            " #   Column         Non-Null Count    Dtype \n",
            "---  ------         --------------    ----- \n",
            " 0   Store          1017209 non-null  int64 \n",
            " 1   DayOfWeek      1017209 non-null  int64 \n",
            " 2   Date           1017209 non-null  object\n",
            " 3   Sales          1017209 non-null  int64 \n",
            " 4   Customers      1017209 non-null  int64 \n",
            " 5   Open           1017209 non-null  int64 \n",
            " 6   Promo          1017209 non-null  int64 \n",
            " 7   StateHoliday   1017209 non-null  object\n",
            " 8   SchoolHoliday  1017209 non-null  int64 \n",
            "dtypes: int64(7), object(2)\n",
            "memory usage: 69.8+ MB\n"
          ]
        }
      ]
    },
    {
      "cell_type": "markdown",
      "source": [
        "#### Duplicate Values"
      ],
      "metadata": {
        "id": "35m5QtbWiB9F"
      }
    },
    {
      "cell_type": "code",
      "source": [
        "# Dataset Duplicate Value Count\n",
        "store_data.duplicated().sum()"
      ],
      "metadata": {
        "id": "1sLdpKYkmox0",
        "colab": {
          "base_uri": "https://localhost:8080/"
        },
        "outputId": "756cbf97-e5c7-4487-fd62-c4157a46438f"
      },
      "execution_count": 9,
      "outputs": [
        {
          "output_type": "execute_result",
          "data": {
            "text/plain": [
              "0"
            ]
          },
          "metadata": {},
          "execution_count": 9
        }
      ]
    },
    {
      "cell_type": "markdown",
      "source": [
        "We See here ,there are no duplicate value in this data set\n"
      ],
      "metadata": {
        "id": "b2NP3fxplZty"
      }
    },
    {
      "cell_type": "markdown",
      "source": [
        "#### Missing Values/Null Values"
      ],
      "metadata": {
        "id": "PoPl-ycgm1ru"
      }
    },
    {
      "cell_type": "code",
      "source": [
        "# Missing Values/Null Values Count\n",
        "store_data.isnull().sum()"
      ],
      "metadata": {
        "id": "GgHWkxvamxVg",
        "colab": {
          "base_uri": "https://localhost:8080/"
        },
        "outputId": "f147c404-7f18-4180-8927-9e0b2f2d2185"
      },
      "execution_count": 10,
      "outputs": [
        {
          "output_type": "execute_result",
          "data": {
            "text/plain": [
              "Store                          0\n",
              "StoreType                      0\n",
              "Assortment                     0\n",
              "CompetitionDistance            3\n",
              "CompetitionOpenSinceMonth    354\n",
              "CompetitionOpenSinceYear     354\n",
              "Promo2                         0\n",
              "Promo2SinceWeek              544\n",
              "Promo2SinceYear              544\n",
              "PromoInterval                544\n",
              "dtype: int64"
            ]
          },
          "metadata": {},
          "execution_count": 10
        }
      ]
    },
    {
      "cell_type": "markdown",
      "source": [
        "There are many null values in these columns:- CompetitionOpenSinceMonth ,CompetitionOpenSinceYear,Promo2sinceWeek,Promo2SinceYear,PromoInterval\n",
        "\n",
        "and also CompetitionDistance have 3 null values .\n",
        "\n",
        "we have to clear it."
      ],
      "metadata": {
        "id": "iETNdtZmlRa7"
      }
    },
    {
      "cell_type": "markdown",
      "source": [
        "\n",
        "\n",
        "# 1.   **CompetitionDistance**\n",
        "\n",
        "\n",
        "\n"
      ],
      "metadata": {
        "id": "2IR5_DrUliyS"
      }
    },
    {
      "cell_type": "code",
      "source": [
        "store_data[pd.isnull(store_data['CompetitionDistance'])]"
      ],
      "metadata": {
        "id": "xg6MXlPnl1nF",
        "colab": {
          "base_uri": "https://localhost:8080/",
          "height": 143
        },
        "outputId": "6c05875e-6cf9-4c39-d89d-b136834c1ae8"
      },
      "execution_count": 11,
      "outputs": [
        {
          "output_type": "execute_result",
          "data": {
            "text/plain": [
              "     Store StoreType Assortment  CompetitionDistance  \\\n",
              "290    291         d          a                  NaN   \n",
              "621    622         a          c                  NaN   \n",
              "878    879         d          a                  NaN   \n",
              "\n",
              "     CompetitionOpenSinceMonth  CompetitionOpenSinceYear  Promo2  \\\n",
              "290                        NaN                       NaN       0   \n",
              "621                        NaN                       NaN       0   \n",
              "878                        NaN                       NaN       1   \n",
              "\n",
              "     Promo2SinceWeek  Promo2SinceYear    PromoInterval  \n",
              "290              NaN              NaN              NaN  \n",
              "621              NaN              NaN              NaN  \n",
              "878              5.0           2013.0  Feb,May,Aug,Nov  "
            ],
            "text/html": [
              "\n",
              "  <div id=\"df-0bbe6583-ed4f-43fb-a31c-35f0d6a19ed1\" class=\"colab-df-container\">\n",
              "    <div>\n",
              "<style scoped>\n",
              "    .dataframe tbody tr th:only-of-type {\n",
              "        vertical-align: middle;\n",
              "    }\n",
              "\n",
              "    .dataframe tbody tr th {\n",
              "        vertical-align: top;\n",
              "    }\n",
              "\n",
              "    .dataframe thead th {\n",
              "        text-align: right;\n",
              "    }\n",
              "</style>\n",
              "<table border=\"1\" class=\"dataframe\">\n",
              "  <thead>\n",
              "    <tr style=\"text-align: right;\">\n",
              "      <th></th>\n",
              "      <th>Store</th>\n",
              "      <th>StoreType</th>\n",
              "      <th>Assortment</th>\n",
              "      <th>CompetitionDistance</th>\n",
              "      <th>CompetitionOpenSinceMonth</th>\n",
              "      <th>CompetitionOpenSinceYear</th>\n",
              "      <th>Promo2</th>\n",
              "      <th>Promo2SinceWeek</th>\n",
              "      <th>Promo2SinceYear</th>\n",
              "      <th>PromoInterval</th>\n",
              "    </tr>\n",
              "  </thead>\n",
              "  <tbody>\n",
              "    <tr>\n",
              "      <th>290</th>\n",
              "      <td>291</td>\n",
              "      <td>d</td>\n",
              "      <td>a</td>\n",
              "      <td>NaN</td>\n",
              "      <td>NaN</td>\n",
              "      <td>NaN</td>\n",
              "      <td>0</td>\n",
              "      <td>NaN</td>\n",
              "      <td>NaN</td>\n",
              "      <td>NaN</td>\n",
              "    </tr>\n",
              "    <tr>\n",
              "      <th>621</th>\n",
              "      <td>622</td>\n",
              "      <td>a</td>\n",
              "      <td>c</td>\n",
              "      <td>NaN</td>\n",
              "      <td>NaN</td>\n",
              "      <td>NaN</td>\n",
              "      <td>0</td>\n",
              "      <td>NaN</td>\n",
              "      <td>NaN</td>\n",
              "      <td>NaN</td>\n",
              "    </tr>\n",
              "    <tr>\n",
              "      <th>878</th>\n",
              "      <td>879</td>\n",
              "      <td>d</td>\n",
              "      <td>a</td>\n",
              "      <td>NaN</td>\n",
              "      <td>NaN</td>\n",
              "      <td>NaN</td>\n",
              "      <td>1</td>\n",
              "      <td>5.0</td>\n",
              "      <td>2013.0</td>\n",
              "      <td>Feb,May,Aug,Nov</td>\n",
              "    </tr>\n",
              "  </tbody>\n",
              "</table>\n",
              "</div>\n",
              "    <div class=\"colab-df-buttons\">\n",
              "\n",
              "  <div class=\"colab-df-container\">\n",
              "    <button class=\"colab-df-convert\" onclick=\"convertToInteractive('df-0bbe6583-ed4f-43fb-a31c-35f0d6a19ed1')\"\n",
              "            title=\"Convert this dataframe to an interactive table.\"\n",
              "            style=\"display:none;\">\n",
              "\n",
              "  <svg xmlns=\"http://www.w3.org/2000/svg\" height=\"24px\" viewBox=\"0 -960 960 960\">\n",
              "    <path d=\"M120-120v-720h720v720H120Zm60-500h600v-160H180v160Zm220 220h160v-160H400v160Zm0 220h160v-160H400v160ZM180-400h160v-160H180v160Zm440 0h160v-160H620v160ZM180-180h160v-160H180v160Zm440 0h160v-160H620v160Z\"/>\n",
              "  </svg>\n",
              "    </button>\n",
              "\n",
              "  <style>\n",
              "    .colab-df-container {\n",
              "      display:flex;\n",
              "      gap: 12px;\n",
              "    }\n",
              "\n",
              "    .colab-df-convert {\n",
              "      background-color: #E8F0FE;\n",
              "      border: none;\n",
              "      border-radius: 50%;\n",
              "      cursor: pointer;\n",
              "      display: none;\n",
              "      fill: #1967D2;\n",
              "      height: 32px;\n",
              "      padding: 0 0 0 0;\n",
              "      width: 32px;\n",
              "    }\n",
              "\n",
              "    .colab-df-convert:hover {\n",
              "      background-color: #E2EBFA;\n",
              "      box-shadow: 0px 1px 2px rgba(60, 64, 67, 0.3), 0px 1px 3px 1px rgba(60, 64, 67, 0.15);\n",
              "      fill: #174EA6;\n",
              "    }\n",
              "\n",
              "    .colab-df-buttons div {\n",
              "      margin-bottom: 4px;\n",
              "    }\n",
              "\n",
              "    [theme=dark] .colab-df-convert {\n",
              "      background-color: #3B4455;\n",
              "      fill: #D2E3FC;\n",
              "    }\n",
              "\n",
              "    [theme=dark] .colab-df-convert:hover {\n",
              "      background-color: #434B5C;\n",
              "      box-shadow: 0px 1px 3px 1px rgba(0, 0, 0, 0.15);\n",
              "      filter: drop-shadow(0px 1px 2px rgba(0, 0, 0, 0.3));\n",
              "      fill: #FFFFFF;\n",
              "    }\n",
              "  </style>\n",
              "\n",
              "    <script>\n",
              "      const buttonEl =\n",
              "        document.querySelector('#df-0bbe6583-ed4f-43fb-a31c-35f0d6a19ed1 button.colab-df-convert');\n",
              "      buttonEl.style.display =\n",
              "        google.colab.kernel.accessAllowed ? 'block' : 'none';\n",
              "\n",
              "      async function convertToInteractive(key) {\n",
              "        const element = document.querySelector('#df-0bbe6583-ed4f-43fb-a31c-35f0d6a19ed1');\n",
              "        const dataTable =\n",
              "          await google.colab.kernel.invokeFunction('convertToInteractive',\n",
              "                                                    [key], {});\n",
              "        if (!dataTable) return;\n",
              "\n",
              "        const docLinkHtml = 'Like what you see? Visit the ' +\n",
              "          '<a target=\"_blank\" href=https://colab.research.google.com/notebooks/data_table.ipynb>data table notebook</a>'\n",
              "          + ' to learn more about interactive tables.';\n",
              "        element.innerHTML = '';\n",
              "        dataTable['output_type'] = 'display_data';\n",
              "        await google.colab.output.renderOutput(dataTable, element);\n",
              "        const docLink = document.createElement('div');\n",
              "        docLink.innerHTML = docLinkHtml;\n",
              "        element.appendChild(docLink);\n",
              "      }\n",
              "    </script>\n",
              "  </div>\n",
              "\n",
              "\n",
              "<div id=\"df-ce224c97-0dbb-458e-a2c6-547d59b0c3c7\">\n",
              "  <button class=\"colab-df-quickchart\" onclick=\"quickchart('df-ce224c97-0dbb-458e-a2c6-547d59b0c3c7')\"\n",
              "            title=\"Suggest charts.\"\n",
              "            style=\"display:none;\">\n",
              "\n",
              "<svg xmlns=\"http://www.w3.org/2000/svg\" height=\"24px\"viewBox=\"0 0 24 24\"\n",
              "     width=\"24px\">\n",
              "    <g>\n",
              "        <path d=\"M19 3H5c-1.1 0-2 .9-2 2v14c0 1.1.9 2 2 2h14c1.1 0 2-.9 2-2V5c0-1.1-.9-2-2-2zM9 17H7v-7h2v7zm4 0h-2V7h2v10zm4 0h-2v-4h2v4z\"/>\n",
              "    </g>\n",
              "</svg>\n",
              "  </button>\n",
              "\n",
              "<style>\n",
              "  .colab-df-quickchart {\n",
              "      --bg-color: #E8F0FE;\n",
              "      --fill-color: #1967D2;\n",
              "      --hover-bg-color: #E2EBFA;\n",
              "      --hover-fill-color: #174EA6;\n",
              "      --disabled-fill-color: #AAA;\n",
              "      --disabled-bg-color: #DDD;\n",
              "  }\n",
              "\n",
              "  [theme=dark] .colab-df-quickchart {\n",
              "      --bg-color: #3B4455;\n",
              "      --fill-color: #D2E3FC;\n",
              "      --hover-bg-color: #434B5C;\n",
              "      --hover-fill-color: #FFFFFF;\n",
              "      --disabled-bg-color: #3B4455;\n",
              "      --disabled-fill-color: #666;\n",
              "  }\n",
              "\n",
              "  .colab-df-quickchart {\n",
              "    background-color: var(--bg-color);\n",
              "    border: none;\n",
              "    border-radius: 50%;\n",
              "    cursor: pointer;\n",
              "    display: none;\n",
              "    fill: var(--fill-color);\n",
              "    height: 32px;\n",
              "    padding: 0;\n",
              "    width: 32px;\n",
              "  }\n",
              "\n",
              "  .colab-df-quickchart:hover {\n",
              "    background-color: var(--hover-bg-color);\n",
              "    box-shadow: 0 1px 2px rgba(60, 64, 67, 0.3), 0 1px 3px 1px rgba(60, 64, 67, 0.15);\n",
              "    fill: var(--button-hover-fill-color);\n",
              "  }\n",
              "\n",
              "  .colab-df-quickchart-complete:disabled,\n",
              "  .colab-df-quickchart-complete:disabled:hover {\n",
              "    background-color: var(--disabled-bg-color);\n",
              "    fill: var(--disabled-fill-color);\n",
              "    box-shadow: none;\n",
              "  }\n",
              "\n",
              "  .colab-df-spinner {\n",
              "    border: 2px solid var(--fill-color);\n",
              "    border-color: transparent;\n",
              "    border-bottom-color: var(--fill-color);\n",
              "    animation:\n",
              "      spin 1s steps(1) infinite;\n",
              "  }\n",
              "\n",
              "  @keyframes spin {\n",
              "    0% {\n",
              "      border-color: transparent;\n",
              "      border-bottom-color: var(--fill-color);\n",
              "      border-left-color: var(--fill-color);\n",
              "    }\n",
              "    20% {\n",
              "      border-color: transparent;\n",
              "      border-left-color: var(--fill-color);\n",
              "      border-top-color: var(--fill-color);\n",
              "    }\n",
              "    30% {\n",
              "      border-color: transparent;\n",
              "      border-left-color: var(--fill-color);\n",
              "      border-top-color: var(--fill-color);\n",
              "      border-right-color: var(--fill-color);\n",
              "    }\n",
              "    40% {\n",
              "      border-color: transparent;\n",
              "      border-right-color: var(--fill-color);\n",
              "      border-top-color: var(--fill-color);\n",
              "    }\n",
              "    60% {\n",
              "      border-color: transparent;\n",
              "      border-right-color: var(--fill-color);\n",
              "    }\n",
              "    80% {\n",
              "      border-color: transparent;\n",
              "      border-right-color: var(--fill-color);\n",
              "      border-bottom-color: var(--fill-color);\n",
              "    }\n",
              "    90% {\n",
              "      border-color: transparent;\n",
              "      border-bottom-color: var(--fill-color);\n",
              "    }\n",
              "  }\n",
              "</style>\n",
              "\n",
              "  <script>\n",
              "    async function quickchart(key) {\n",
              "      const quickchartButtonEl =\n",
              "        document.querySelector('#' + key + ' button');\n",
              "      quickchartButtonEl.disabled = true;  // To prevent multiple clicks.\n",
              "      quickchartButtonEl.classList.add('colab-df-spinner');\n",
              "      try {\n",
              "        const charts = await google.colab.kernel.invokeFunction(\n",
              "            'suggestCharts', [key], {});\n",
              "      } catch (error) {\n",
              "        console.error('Error during call to suggestCharts:', error);\n",
              "      }\n",
              "      quickchartButtonEl.classList.remove('colab-df-spinner');\n",
              "      quickchartButtonEl.classList.add('colab-df-quickchart-complete');\n",
              "    }\n",
              "    (() => {\n",
              "      let quickchartButtonEl =\n",
              "        document.querySelector('#df-ce224c97-0dbb-458e-a2c6-547d59b0c3c7 button');\n",
              "      quickchartButtonEl.style.display =\n",
              "        google.colab.kernel.accessAllowed ? 'block' : 'none';\n",
              "    })();\n",
              "  </script>\n",
              "</div>\n",
              "    </div>\n",
              "  </div>\n"
            ]
          },
          "metadata": {},
          "execution_count": 11
        }
      ]
    },
    {
      "cell_type": "markdown",
      "source": [
        "To fill up these null values there are so many ways like(0,mean,median,mode).We have to replace these null values by median"
      ],
      "metadata": {
        "id": "rkc9ByY5msiw"
      }
    },
    {
      "cell_type": "code",
      "source": [
        "store_data['CompetitionDistance'].fillna(store_data['CompetitionDistance'].median(),inplace=True)"
      ],
      "metadata": {
        "id": "smzrNrW8nKNa"
      },
      "execution_count": 12,
      "outputs": []
    },
    {
      "cell_type": "code",
      "source": [
        "store_data['CompetitionDistance'].isnull().sum()"
      ],
      "metadata": {
        "id": "iDEZMZp3tBkU",
        "colab": {
          "base_uri": "https://localhost:8080/"
        },
        "outputId": "25dd1c23-5751-44d1-a490-4c35ed974bb9"
      },
      "execution_count": 13,
      "outputs": [
        {
          "output_type": "execute_result",
          "data": {
            "text/plain": [
              "0"
            ]
          },
          "metadata": {},
          "execution_count": 13
        }
      ]
    },
    {
      "cell_type": "markdown",
      "source": [
        "\n",
        "\n",
        "# 2. 'CompetitionOpenSinceMonth', 'CompetitionOpenSinceYear, Promointerval', 'Promo2sinceWeek' and 'Promo2sinceYear'\n",
        "\n"
      ],
      "metadata": {
        "id": "N_KzCtdAtpRH"
      }
    },
    {
      "cell_type": "markdown",
      "source": [
        "\n",
        "There are not much information provided to these data. Also we observe from dataset that where the Promo2 has value equals to zero there are Nan values for these columns. That means the store which do not wat promotion they have null values in promointerval , promo2sinceweek and so on.So for this purpose the best way to fill those features is to assign value equals to zero."
      ],
      "metadata": {
        "id": "Dp_h0HqXu9jH"
      }
    },
    {
      "cell_type": "code",
      "source": [
        "ds=store_data.copy()"
      ],
      "metadata": {
        "id": "y4sx-q9suLAO"
      },
      "execution_count": 14,
      "outputs": []
    },
    {
      "cell_type": "code",
      "source": [
        "## code for replacing Nan values with 0.\n",
        "\n",
        "## Replacing Nan values with 0 in CompetitionOpenSinceMonth\n",
        "ds['CompetitionOpenSinceMonth'] = ds['CompetitionOpenSinceMonth'].fillna(0)\n",
        "\n",
        "## Replacing Nan values with 0 in CompetitionOpenSinceYear\n",
        "ds['CompetitionOpenSinceYear'] = ds['CompetitionOpenSinceYear'].fillna(0)\n",
        "\n",
        "## Replacing Nan values with 0 in Promo2SinceWeek\n",
        "ds['Promo2SinceWeek'] = ds['Promo2SinceWeek'].fillna(0)\n",
        "\n",
        "## Replacing Nan values with 0 in Promo2SinceYear\n",
        "ds['Promo2SinceYear'] = ds['Promo2SinceYear'].fillna(0)\n",
        "\n",
        "## Replacing Nan values with 0 in PromoInterval\n",
        "ds['PromoInterval'] = ds['PromoInterval'].fillna(0)\n",
        "\n",
        "## Now checking Nan values\n",
        "ds.isna().sum()"
      ],
      "metadata": {
        "id": "oqJ7DmBmvipy",
        "colab": {
          "base_uri": "https://localhost:8080/"
        },
        "outputId": "587ce31c-411a-4bf5-d6b4-90b4d381ba33"
      },
      "execution_count": 15,
      "outputs": [
        {
          "output_type": "execute_result",
          "data": {
            "text/plain": [
              "Store                        0\n",
              "StoreType                    0\n",
              "Assortment                   0\n",
              "CompetitionDistance          0\n",
              "CompetitionOpenSinceMonth    0\n",
              "CompetitionOpenSinceYear     0\n",
              "Promo2                       0\n",
              "Promo2SinceWeek              0\n",
              "Promo2SinceYear              0\n",
              "PromoInterval                0\n",
              "dtype: int64"
            ]
          },
          "metadata": {},
          "execution_count": 15
        }
      ]
    },
    {
      "cell_type": "markdown",
      "source": [
        "### What did you know about your dataset?"
      ],
      "metadata": {
        "id": "H0kj-8xxnORC"
      }
    },
    {
      "cell_type": "markdown",
      "source": [
        "Answer Here\n",
        "        There are two datasets are given from which we have to predict jtheir daily sales for upto six weeks.\n",
        "\n",
        "1.   Rossmann Stores Data.csv - historical data including Sales\n",
        "                    It has  1017209 entries and 9 columns and here there is no null values in any entry.\n",
        "2.   store.csv - supplemental information about the stores\n",
        "                    It has 1115 entries and 10 variables and here there is some null values but we treat that values with mean,median,mode and 0 .\n",
        "                    'CompetitionOpenSinceMonth', 'CompetitionOpenSinceYear, Promointerval', 'Promo2sinceWeek' and 'Promo2sinceYear'\n",
        "\n"
      ],
      "metadata": {
        "id": "gfoNAAC-nUe_"
      }
    },
    {
      "cell_type": "markdown",
      "source": [
        "# Merge the Rossmann_df and Store_df csv by column 'Store' as in both csv Store column is common."
      ],
      "metadata": {
        "id": "UWV6tEqlBA-8"
      }
    },
    {
      "cell_type": "code",
      "source": [
        "ds_final=pd.merge(rosemaan_data,ds,on='Store',how='left')\n",
        "ds_final.tail()"
      ],
      "metadata": {
        "id": "_UvqitZYBGVA",
        "colab": {
          "base_uri": "https://localhost:8080/",
          "height": 313
        },
        "outputId": "0521adfd-8314-4d81-868a-b5df66a72756"
      },
      "execution_count": 16,
      "outputs": [
        {
          "output_type": "execute_result",
          "data": {
            "text/plain": [
              "         Store  DayOfWeek        Date  Sales  Customers  Open  Promo  \\\n",
              "1017204   1111          2  2013-01-01      0          0     0      0   \n",
              "1017205   1112          2  2013-01-01      0          0     0      0   \n",
              "1017206   1113          2  2013-01-01      0          0     0      0   \n",
              "1017207   1114          2  2013-01-01      0          0     0      0   \n",
              "1017208   1115          2  2013-01-01      0          0     0      0   \n",
              "\n",
              "        StateHoliday  SchoolHoliday StoreType Assortment  CompetitionDistance  \\\n",
              "1017204            a              1         a          a               1900.0   \n",
              "1017205            a              1         c          c               1880.0   \n",
              "1017206            a              1         a          c               9260.0   \n",
              "1017207            a              1         a          c                870.0   \n",
              "1017208            a              1         d          c               5350.0   \n",
              "\n",
              "         CompetitionOpenSinceMonth  CompetitionOpenSinceYear  Promo2  \\\n",
              "1017204                        6.0                    2014.0       1   \n",
              "1017205                        4.0                    2006.0       0   \n",
              "1017206                        0.0                       0.0       0   \n",
              "1017207                        0.0                       0.0       0   \n",
              "1017208                        0.0                       0.0       1   \n",
              "\n",
              "         Promo2SinceWeek  Promo2SinceYear     PromoInterval  \n",
              "1017204             31.0           2013.0   Jan,Apr,Jul,Oct  \n",
              "1017205              0.0              0.0                 0  \n",
              "1017206              0.0              0.0                 0  \n",
              "1017207              0.0              0.0                 0  \n",
              "1017208             22.0           2012.0  Mar,Jun,Sept,Dec  "
            ],
            "text/html": [
              "\n",
              "  <div id=\"df-90920eb5-1597-402b-9428-a05e0d84dfd1\" class=\"colab-df-container\">\n",
              "    <div>\n",
              "<style scoped>\n",
              "    .dataframe tbody tr th:only-of-type {\n",
              "        vertical-align: middle;\n",
              "    }\n",
              "\n",
              "    .dataframe tbody tr th {\n",
              "        vertical-align: top;\n",
              "    }\n",
              "\n",
              "    .dataframe thead th {\n",
              "        text-align: right;\n",
              "    }\n",
              "</style>\n",
              "<table border=\"1\" class=\"dataframe\">\n",
              "  <thead>\n",
              "    <tr style=\"text-align: right;\">\n",
              "      <th></th>\n",
              "      <th>Store</th>\n",
              "      <th>DayOfWeek</th>\n",
              "      <th>Date</th>\n",
              "      <th>Sales</th>\n",
              "      <th>Customers</th>\n",
              "      <th>Open</th>\n",
              "      <th>Promo</th>\n",
              "      <th>StateHoliday</th>\n",
              "      <th>SchoolHoliday</th>\n",
              "      <th>StoreType</th>\n",
              "      <th>Assortment</th>\n",
              "      <th>CompetitionDistance</th>\n",
              "      <th>CompetitionOpenSinceMonth</th>\n",
              "      <th>CompetitionOpenSinceYear</th>\n",
              "      <th>Promo2</th>\n",
              "      <th>Promo2SinceWeek</th>\n",
              "      <th>Promo2SinceYear</th>\n",
              "      <th>PromoInterval</th>\n",
              "    </tr>\n",
              "  </thead>\n",
              "  <tbody>\n",
              "    <tr>\n",
              "      <th>1017204</th>\n",
              "      <td>1111</td>\n",
              "      <td>2</td>\n",
              "      <td>2013-01-01</td>\n",
              "      <td>0</td>\n",
              "      <td>0</td>\n",
              "      <td>0</td>\n",
              "      <td>0</td>\n",
              "      <td>a</td>\n",
              "      <td>1</td>\n",
              "      <td>a</td>\n",
              "      <td>a</td>\n",
              "      <td>1900.0</td>\n",
              "      <td>6.0</td>\n",
              "      <td>2014.0</td>\n",
              "      <td>1</td>\n",
              "      <td>31.0</td>\n",
              "      <td>2013.0</td>\n",
              "      <td>Jan,Apr,Jul,Oct</td>\n",
              "    </tr>\n",
              "    <tr>\n",
              "      <th>1017205</th>\n",
              "      <td>1112</td>\n",
              "      <td>2</td>\n",
              "      <td>2013-01-01</td>\n",
              "      <td>0</td>\n",
              "      <td>0</td>\n",
              "      <td>0</td>\n",
              "      <td>0</td>\n",
              "      <td>a</td>\n",
              "      <td>1</td>\n",
              "      <td>c</td>\n",
              "      <td>c</td>\n",
              "      <td>1880.0</td>\n",
              "      <td>4.0</td>\n",
              "      <td>2006.0</td>\n",
              "      <td>0</td>\n",
              "      <td>0.0</td>\n",
              "      <td>0.0</td>\n",
              "      <td>0</td>\n",
              "    </tr>\n",
              "    <tr>\n",
              "      <th>1017206</th>\n",
              "      <td>1113</td>\n",
              "      <td>2</td>\n",
              "      <td>2013-01-01</td>\n",
              "      <td>0</td>\n",
              "      <td>0</td>\n",
              "      <td>0</td>\n",
              "      <td>0</td>\n",
              "      <td>a</td>\n",
              "      <td>1</td>\n",
              "      <td>a</td>\n",
              "      <td>c</td>\n",
              "      <td>9260.0</td>\n",
              "      <td>0.0</td>\n",
              "      <td>0.0</td>\n",
              "      <td>0</td>\n",
              "      <td>0.0</td>\n",
              "      <td>0.0</td>\n",
              "      <td>0</td>\n",
              "    </tr>\n",
              "    <tr>\n",
              "      <th>1017207</th>\n",
              "      <td>1114</td>\n",
              "      <td>2</td>\n",
              "      <td>2013-01-01</td>\n",
              "      <td>0</td>\n",
              "      <td>0</td>\n",
              "      <td>0</td>\n",
              "      <td>0</td>\n",
              "      <td>a</td>\n",
              "      <td>1</td>\n",
              "      <td>a</td>\n",
              "      <td>c</td>\n",
              "      <td>870.0</td>\n",
              "      <td>0.0</td>\n",
              "      <td>0.0</td>\n",
              "      <td>0</td>\n",
              "      <td>0.0</td>\n",
              "      <td>0.0</td>\n",
              "      <td>0</td>\n",
              "    </tr>\n",
              "    <tr>\n",
              "      <th>1017208</th>\n",
              "      <td>1115</td>\n",
              "      <td>2</td>\n",
              "      <td>2013-01-01</td>\n",
              "      <td>0</td>\n",
              "      <td>0</td>\n",
              "      <td>0</td>\n",
              "      <td>0</td>\n",
              "      <td>a</td>\n",
              "      <td>1</td>\n",
              "      <td>d</td>\n",
              "      <td>c</td>\n",
              "      <td>5350.0</td>\n",
              "      <td>0.0</td>\n",
              "      <td>0.0</td>\n",
              "      <td>1</td>\n",
              "      <td>22.0</td>\n",
              "      <td>2012.0</td>\n",
              "      <td>Mar,Jun,Sept,Dec</td>\n",
              "    </tr>\n",
              "  </tbody>\n",
              "</table>\n",
              "</div>\n",
              "    <div class=\"colab-df-buttons\">\n",
              "\n",
              "  <div class=\"colab-df-container\">\n",
              "    <button class=\"colab-df-convert\" onclick=\"convertToInteractive('df-90920eb5-1597-402b-9428-a05e0d84dfd1')\"\n",
              "            title=\"Convert this dataframe to an interactive table.\"\n",
              "            style=\"display:none;\">\n",
              "\n",
              "  <svg xmlns=\"http://www.w3.org/2000/svg\" height=\"24px\" viewBox=\"0 -960 960 960\">\n",
              "    <path d=\"M120-120v-720h720v720H120Zm60-500h600v-160H180v160Zm220 220h160v-160H400v160Zm0 220h160v-160H400v160ZM180-400h160v-160H180v160Zm440 0h160v-160H620v160ZM180-180h160v-160H180v160Zm440 0h160v-160H620v160Z\"/>\n",
              "  </svg>\n",
              "    </button>\n",
              "\n",
              "  <style>\n",
              "    .colab-df-container {\n",
              "      display:flex;\n",
              "      gap: 12px;\n",
              "    }\n",
              "\n",
              "    .colab-df-convert {\n",
              "      background-color: #E8F0FE;\n",
              "      border: none;\n",
              "      border-radius: 50%;\n",
              "      cursor: pointer;\n",
              "      display: none;\n",
              "      fill: #1967D2;\n",
              "      height: 32px;\n",
              "      padding: 0 0 0 0;\n",
              "      width: 32px;\n",
              "    }\n",
              "\n",
              "    .colab-df-convert:hover {\n",
              "      background-color: #E2EBFA;\n",
              "      box-shadow: 0px 1px 2px rgba(60, 64, 67, 0.3), 0px 1px 3px 1px rgba(60, 64, 67, 0.15);\n",
              "      fill: #174EA6;\n",
              "    }\n",
              "\n",
              "    .colab-df-buttons div {\n",
              "      margin-bottom: 4px;\n",
              "    }\n",
              "\n",
              "    [theme=dark] .colab-df-convert {\n",
              "      background-color: #3B4455;\n",
              "      fill: #D2E3FC;\n",
              "    }\n",
              "\n",
              "    [theme=dark] .colab-df-convert:hover {\n",
              "      background-color: #434B5C;\n",
              "      box-shadow: 0px 1px 3px 1px rgba(0, 0, 0, 0.15);\n",
              "      filter: drop-shadow(0px 1px 2px rgba(0, 0, 0, 0.3));\n",
              "      fill: #FFFFFF;\n",
              "    }\n",
              "  </style>\n",
              "\n",
              "    <script>\n",
              "      const buttonEl =\n",
              "        document.querySelector('#df-90920eb5-1597-402b-9428-a05e0d84dfd1 button.colab-df-convert');\n",
              "      buttonEl.style.display =\n",
              "        google.colab.kernel.accessAllowed ? 'block' : 'none';\n",
              "\n",
              "      async function convertToInteractive(key) {\n",
              "        const element = document.querySelector('#df-90920eb5-1597-402b-9428-a05e0d84dfd1');\n",
              "        const dataTable =\n",
              "          await google.colab.kernel.invokeFunction('convertToInteractive',\n",
              "                                                    [key], {});\n",
              "        if (!dataTable) return;\n",
              "\n",
              "        const docLinkHtml = 'Like what you see? Visit the ' +\n",
              "          '<a target=\"_blank\" href=https://colab.research.google.com/notebooks/data_table.ipynb>data table notebook</a>'\n",
              "          + ' to learn more about interactive tables.';\n",
              "        element.innerHTML = '';\n",
              "        dataTable['output_type'] = 'display_data';\n",
              "        await google.colab.output.renderOutput(dataTable, element);\n",
              "        const docLink = document.createElement('div');\n",
              "        docLink.innerHTML = docLinkHtml;\n",
              "        element.appendChild(docLink);\n",
              "      }\n",
              "    </script>\n",
              "  </div>\n",
              "\n",
              "\n",
              "<div id=\"df-85b64214-c8bd-43f3-9b63-fe8f27ab2568\">\n",
              "  <button class=\"colab-df-quickchart\" onclick=\"quickchart('df-85b64214-c8bd-43f3-9b63-fe8f27ab2568')\"\n",
              "            title=\"Suggest charts.\"\n",
              "            style=\"display:none;\">\n",
              "\n",
              "<svg xmlns=\"http://www.w3.org/2000/svg\" height=\"24px\"viewBox=\"0 0 24 24\"\n",
              "     width=\"24px\">\n",
              "    <g>\n",
              "        <path d=\"M19 3H5c-1.1 0-2 .9-2 2v14c0 1.1.9 2 2 2h14c1.1 0 2-.9 2-2V5c0-1.1-.9-2-2-2zM9 17H7v-7h2v7zm4 0h-2V7h2v10zm4 0h-2v-4h2v4z\"/>\n",
              "    </g>\n",
              "</svg>\n",
              "  </button>\n",
              "\n",
              "<style>\n",
              "  .colab-df-quickchart {\n",
              "      --bg-color: #E8F0FE;\n",
              "      --fill-color: #1967D2;\n",
              "      --hover-bg-color: #E2EBFA;\n",
              "      --hover-fill-color: #174EA6;\n",
              "      --disabled-fill-color: #AAA;\n",
              "      --disabled-bg-color: #DDD;\n",
              "  }\n",
              "\n",
              "  [theme=dark] .colab-df-quickchart {\n",
              "      --bg-color: #3B4455;\n",
              "      --fill-color: #D2E3FC;\n",
              "      --hover-bg-color: #434B5C;\n",
              "      --hover-fill-color: #FFFFFF;\n",
              "      --disabled-bg-color: #3B4455;\n",
              "      --disabled-fill-color: #666;\n",
              "  }\n",
              "\n",
              "  .colab-df-quickchart {\n",
              "    background-color: var(--bg-color);\n",
              "    border: none;\n",
              "    border-radius: 50%;\n",
              "    cursor: pointer;\n",
              "    display: none;\n",
              "    fill: var(--fill-color);\n",
              "    height: 32px;\n",
              "    padding: 0;\n",
              "    width: 32px;\n",
              "  }\n",
              "\n",
              "  .colab-df-quickchart:hover {\n",
              "    background-color: var(--hover-bg-color);\n",
              "    box-shadow: 0 1px 2px rgba(60, 64, 67, 0.3), 0 1px 3px 1px rgba(60, 64, 67, 0.15);\n",
              "    fill: var(--button-hover-fill-color);\n",
              "  }\n",
              "\n",
              "  .colab-df-quickchart-complete:disabled,\n",
              "  .colab-df-quickchart-complete:disabled:hover {\n",
              "    background-color: var(--disabled-bg-color);\n",
              "    fill: var(--disabled-fill-color);\n",
              "    box-shadow: none;\n",
              "  }\n",
              "\n",
              "  .colab-df-spinner {\n",
              "    border: 2px solid var(--fill-color);\n",
              "    border-color: transparent;\n",
              "    border-bottom-color: var(--fill-color);\n",
              "    animation:\n",
              "      spin 1s steps(1) infinite;\n",
              "  }\n",
              "\n",
              "  @keyframes spin {\n",
              "    0% {\n",
              "      border-color: transparent;\n",
              "      border-bottom-color: var(--fill-color);\n",
              "      border-left-color: var(--fill-color);\n",
              "    }\n",
              "    20% {\n",
              "      border-color: transparent;\n",
              "      border-left-color: var(--fill-color);\n",
              "      border-top-color: var(--fill-color);\n",
              "    }\n",
              "    30% {\n",
              "      border-color: transparent;\n",
              "      border-left-color: var(--fill-color);\n",
              "      border-top-color: var(--fill-color);\n",
              "      border-right-color: var(--fill-color);\n",
              "    }\n",
              "    40% {\n",
              "      border-color: transparent;\n",
              "      border-right-color: var(--fill-color);\n",
              "      border-top-color: var(--fill-color);\n",
              "    }\n",
              "    60% {\n",
              "      border-color: transparent;\n",
              "      border-right-color: var(--fill-color);\n",
              "    }\n",
              "    80% {\n",
              "      border-color: transparent;\n",
              "      border-right-color: var(--fill-color);\n",
              "      border-bottom-color: var(--fill-color);\n",
              "    }\n",
              "    90% {\n",
              "      border-color: transparent;\n",
              "      border-bottom-color: var(--fill-color);\n",
              "    }\n",
              "  }\n",
              "</style>\n",
              "\n",
              "  <script>\n",
              "    async function quickchart(key) {\n",
              "      const quickchartButtonEl =\n",
              "        document.querySelector('#' + key + ' button');\n",
              "      quickchartButtonEl.disabled = true;  // To prevent multiple clicks.\n",
              "      quickchartButtonEl.classList.add('colab-df-spinner');\n",
              "      try {\n",
              "        const charts = await google.colab.kernel.invokeFunction(\n",
              "            'suggestCharts', [key], {});\n",
              "      } catch (error) {\n",
              "        console.error('Error during call to suggestCharts:', error);\n",
              "      }\n",
              "      quickchartButtonEl.classList.remove('colab-df-spinner');\n",
              "      quickchartButtonEl.classList.add('colab-df-quickchart-complete');\n",
              "    }\n",
              "    (() => {\n",
              "      let quickchartButtonEl =\n",
              "        document.querySelector('#df-85b64214-c8bd-43f3-9b63-fe8f27ab2568 button');\n",
              "      quickchartButtonEl.style.display =\n",
              "        google.colab.kernel.accessAllowed ? 'block' : 'none';\n",
              "    })();\n",
              "  </script>\n",
              "</div>\n",
              "    </div>\n",
              "  </div>\n"
            ]
          },
          "metadata": {},
          "execution_count": 16
        }
      ]
    },
    {
      "cell_type": "code",
      "source": [
        "ds_final.shape"
      ],
      "metadata": {
        "id": "0o3gPwghBrZO",
        "colab": {
          "base_uri": "https://localhost:8080/"
        },
        "outputId": "0c4e678a-6eae-4df2-b6ef-53317354cc57"
      },
      "execution_count": 17,
      "outputs": [
        {
          "output_type": "execute_result",
          "data": {
            "text/plain": [
              "(1017209, 18)"
            ]
          },
          "metadata": {},
          "execution_count": 17
        }
      ]
    },
    {
      "cell_type": "markdown",
      "source": [
        "# **3. Data Wrangling**"
      ],
      "metadata": {
        "id": "f4r2Hh7iFhwE"
      }
    },
    {
      "cell_type": "markdown",
      "source": [
        "# **Changing different dtypes to int type.**"
      ],
      "metadata": {
        "id": "6PjHVafJCHv9"
      }
    },
    {
      "cell_type": "code",
      "source": [
        "# code for changing StateHoliday dtype from object to int.\n",
        "ds_final.loc[ds_final['StateHoliday'] == '0', 'StateHoliday'] = 0\n",
        "ds_final.loc[ds_final['StateHoliday'] == 'a', 'StateHoliday'] = 1\n",
        "ds_final.loc[ds_final['StateHoliday'] == 'b', 'StateHoliday'] = 2\n",
        "ds_final.loc[ds_final['StateHoliday'] == 'c', 'StateHoliday'] = 3\n",
        "ds_final['StateHoliday'] = ds_final['StateHoliday'].astype(int, copy=False)\n",
        "\n",
        "print('levels :', ds_final['StateHoliday'].unique(), '; data type :', ds_final['StateHoliday'].dtype)"
      ],
      "metadata": {
        "id": "Qf67gNJpCL9t",
        "colab": {
          "base_uri": "https://localhost:8080/"
        },
        "outputId": "c4096a66-42e6-430d-8de8-f0cb70de9b28"
      },
      "execution_count": 18,
      "outputs": [
        {
          "output_type": "stream",
          "name": "stdout",
          "text": [
            "levels : [0 1 2 3] ; data type : int64\n"
          ]
        }
      ]
    },
    {
      "cell_type": "code",
      "source": [
        "# code for changing Assortment dtype from object to int.\n",
        "ds_final.loc[ds_final['Assortment'] == 'a', 'Assortment'] = 0\n",
        "ds_final.loc[ds_final['Assortment'] == 'b', 'Assortment'] = 1\n",
        "ds_final.loc[ds_final['Assortment'] == 'c', 'Assortment'] = 2\n",
        "ds_final['Assortment'] = ds_final['Assortment'].astype(int, copy=False)\n",
        "\n",
        "print('levels :', ds_final['Assortment'].unique(), '; data type :', ds_final['Assortment'].dtype)"
      ],
      "metadata": {
        "id": "OMS7igqcDEqh",
        "colab": {
          "base_uri": "https://localhost:8080/"
        },
        "outputId": "16cb61bf-7cc9-46f9-bb82-10ba9e7b41ca"
      },
      "execution_count": 19,
      "outputs": [
        {
          "output_type": "stream",
          "name": "stdout",
          "text": [
            "levels : [0 2 1] ; data type : int64\n"
          ]
        }
      ]
    },
    {
      "cell_type": "code",
      "source": [
        "# code for changing StoreType dtype from object to int.\n",
        "ds_final.loc[ds_final['StoreType'] == 'a', 'StoreType'] = 0\n",
        "ds_final.loc[ds_final['StoreType'] == 'b', 'StoreType'] = 1\n",
        "ds_final.loc[ds_final['StoreType'] == 'c', 'StoreType'] = 2\n",
        "ds_final.loc[ds_final['StoreType'] == 'd', 'StoreType'] = 3\n",
        "ds_final['StoreType'] = ds_final['StoreType'].astype(int, copy=False)\n",
        "\n",
        "print('levels :', ds_final['StoreType'].unique(), '; data type :', ds_final['StoreType'].dtype)"
      ],
      "metadata": {
        "id": "yKWO41uEE0LI",
        "colab": {
          "base_uri": "https://localhost:8080/"
        },
        "outputId": "e578d5ae-68a0-44ad-d924-2eb24c55be6f"
      },
      "execution_count": 20,
      "outputs": [
        {
          "output_type": "stream",
          "name": "stdout",
          "text": [
            "levels : [2 0 3 1] ; data type : int64\n"
          ]
        }
      ]
    },
    {
      "cell_type": "code",
      "source": [
        "# code for changing format of date from object to datetime\n",
        "ds_final['Date'] = pd.to_datetime(ds_final['Date'], format= '%Y-%m-%d')"
      ],
      "metadata": {
        "id": "TbGH4puqF4y4"
      },
      "execution_count": 21,
      "outputs": []
    },
    {
      "cell_type": "code",
      "source": [
        "ds_final['CompetitionOpenSinceYear']= ds_final['CompetitionOpenSinceYear'].astype(int)\n",
        "ds_final['Promo2SinceYear']= ds_final['Promo2SinceYear'].astype(int)"
      ],
      "metadata": {
        "id": "PlhUFc6QGDk6"
      },
      "execution_count": 22,
      "outputs": []
    },
    {
      "cell_type": "code",
      "source": [
        "ds_final['CompetitionOpenSinceMonth'] = pd.DatetimeIndex(ds_final['Date']).month"
      ],
      "metadata": {
        "id": "dvtUbgRJGKau"
      },
      "execution_count": 23,
      "outputs": []
    },
    {
      "cell_type": "code",
      "source": [
        "ds_final['CompetitionDistance']= ds_final['CompetitionDistance'].astype(int)\n",
        "ds_final['Promo2SinceWeek']= ds_final['Promo2SinceWeek'].astype(int)"
      ],
      "metadata": {
        "id": "NxXpKv2_GNBk"
      },
      "execution_count": 24,
      "outputs": []
    },
    {
      "cell_type": "markdown",
      "source": [
        "## ***2. Understanding Your Variables***"
      ],
      "metadata": {
        "id": "nA9Y7ga8ng1Z"
      }
    },
    {
      "cell_type": "code",
      "source": [
        "ds_final.info()"
      ],
      "metadata": {
        "id": "QJX2JLSvD8W-",
        "colab": {
          "base_uri": "https://localhost:8080/"
        },
        "outputId": "22c05d48-3bc3-4f13-ab6f-f8fd40e53b0d"
      },
      "execution_count": 25,
      "outputs": [
        {
          "output_type": "stream",
          "name": "stdout",
          "text": [
            "<class 'pandas.core.frame.DataFrame'>\n",
            "Int64Index: 1017209 entries, 0 to 1017208\n",
            "Data columns (total 18 columns):\n",
            " #   Column                     Non-Null Count    Dtype         \n",
            "---  ------                     --------------    -----         \n",
            " 0   Store                      1017209 non-null  int64         \n",
            " 1   DayOfWeek                  1017209 non-null  int64         \n",
            " 2   Date                       1017209 non-null  datetime64[ns]\n",
            " 3   Sales                      1017209 non-null  int64         \n",
            " 4   Customers                  1017209 non-null  int64         \n",
            " 5   Open                       1017209 non-null  int64         \n",
            " 6   Promo                      1017209 non-null  int64         \n",
            " 7   StateHoliday               1017209 non-null  int64         \n",
            " 8   SchoolHoliday              1017209 non-null  int64         \n",
            " 9   StoreType                  1017209 non-null  int64         \n",
            " 10  Assortment                 1017209 non-null  int64         \n",
            " 11  CompetitionDistance        1017209 non-null  int64         \n",
            " 12  CompetitionOpenSinceMonth  1017209 non-null  int64         \n",
            " 13  CompetitionOpenSinceYear   1017209 non-null  int64         \n",
            " 14  Promo2                     1017209 non-null  int64         \n",
            " 15  Promo2SinceWeek            1017209 non-null  int64         \n",
            " 16  Promo2SinceYear            1017209 non-null  int64         \n",
            " 17  PromoInterval              1017209 non-null  object        \n",
            "dtypes: datetime64[ns](1), int64(16), object(1)\n",
            "memory usage: 147.5+ MB\n"
          ]
        }
      ]
    },
    {
      "cell_type": "code",
      "source": [
        "# Dataset Columns\n",
        "ds_final.columns"
      ],
      "metadata": {
        "id": "j7xfkqrt5Ag5",
        "colab": {
          "base_uri": "https://localhost:8080/"
        },
        "outputId": "01ec4799-38ee-498d-f264-506280530738"
      },
      "execution_count": 26,
      "outputs": [
        {
          "output_type": "execute_result",
          "data": {
            "text/plain": [
              "Index(['Store', 'DayOfWeek', 'Date', 'Sales', 'Customers', 'Open', 'Promo',\n",
              "       'StateHoliday', 'SchoolHoliday', 'StoreType', 'Assortment',\n",
              "       'CompetitionDistance', 'CompetitionOpenSinceMonth',\n",
              "       'CompetitionOpenSinceYear', 'Promo2', 'Promo2SinceWeek',\n",
              "       'Promo2SinceYear', 'PromoInterval'],\n",
              "      dtype='object')"
            ]
          },
          "metadata": {},
          "execution_count": 26
        }
      ]
    },
    {
      "cell_type": "code",
      "source": [
        "# Dataset Describe\n",
        "ds_final.describe()"
      ],
      "metadata": {
        "id": "DnOaZdaE5Q5t",
        "colab": {
          "base_uri": "https://localhost:8080/",
          "height": 320
        },
        "outputId": "a240c4b9-e237-47ca-8457-cefaad273e6a"
      },
      "execution_count": 27,
      "outputs": [
        {
          "output_type": "execute_result",
          "data": {
            "text/plain": [
              "              Store     DayOfWeek         Sales     Customers          Open  \\\n",
              "count  1.017209e+06  1.017209e+06  1.017209e+06  1.017209e+06  1.017209e+06   \n",
              "mean   5.584297e+02  3.998341e+00  5.773819e+03  6.331459e+02  8.301067e-01   \n",
              "std    3.219087e+02  1.997391e+00  3.849926e+03  4.644117e+02  3.755392e-01   \n",
              "min    1.000000e+00  1.000000e+00  0.000000e+00  0.000000e+00  0.000000e+00   \n",
              "25%    2.800000e+02  2.000000e+00  3.727000e+03  4.050000e+02  1.000000e+00   \n",
              "50%    5.580000e+02  4.000000e+00  5.744000e+03  6.090000e+02  1.000000e+00   \n",
              "75%    8.380000e+02  6.000000e+00  7.856000e+03  8.370000e+02  1.000000e+00   \n",
              "max    1.115000e+03  7.000000e+00  4.155100e+04  7.388000e+03  1.000000e+00   \n",
              "\n",
              "              Promo  StateHoliday  SchoolHoliday     StoreType    Assortment  \\\n",
              "count  1.017209e+06  1.017209e+06   1.017209e+06  1.017209e+06  1.017209e+06   \n",
              "mean   3.815145e-01  4.516279e-02   1.786467e-01  1.207467e+00  9.351412e-01   \n",
              "std    4.857586e-01  2.836559e-01   3.830564e-01  1.365376e+00  9.938011e-01   \n",
              "min    0.000000e+00  0.000000e+00   0.000000e+00  0.000000e+00  0.000000e+00   \n",
              "25%    0.000000e+00  0.000000e+00   0.000000e+00  0.000000e+00  0.000000e+00   \n",
              "50%    0.000000e+00  0.000000e+00   0.000000e+00  0.000000e+00  0.000000e+00   \n",
              "75%    1.000000e+00  0.000000e+00   0.000000e+00  3.000000e+00  2.000000e+00   \n",
              "max    1.000000e+00  3.000000e+00   1.000000e+00  3.000000e+00  2.000000e+00   \n",
              "\n",
              "       CompetitionDistance  CompetitionOpenSinceMonth  \\\n",
              "count         1.017209e+06               1.017209e+06   \n",
              "mean          5.422021e+03               5.846762e+00   \n",
              "std           7.706918e+03               3.326097e+00   \n",
              "min           2.000000e+01               1.000000e+00   \n",
              "25%           7.100000e+02               3.000000e+00   \n",
              "50%           2.325000e+03               6.000000e+00   \n",
              "75%           6.880000e+03               8.000000e+00   \n",
              "max           7.586000e+04               1.200000e+01   \n",
              "\n",
              "       CompetitionOpenSinceYear        Promo2  Promo2SinceWeek  \\\n",
              "count              1.017209e+06  1.017209e+06     1.017209e+06   \n",
              "mean               1.370173e+03  5.005638e-01     1.164767e+01   \n",
              "std                9.353634e+02  4.999999e-01     1.532393e+01   \n",
              "min                0.000000e+00  0.000000e+00     0.000000e+00   \n",
              "25%                0.000000e+00  0.000000e+00     0.000000e+00   \n",
              "50%                2.006000e+03  1.000000e+00     1.000000e+00   \n",
              "75%                2.011000e+03  1.000000e+00     2.200000e+01   \n",
              "max                2.015000e+03  1.000000e+00     5.000000e+01   \n",
              "\n",
              "       Promo2SinceYear  \n",
              "count     1.017209e+06  \n",
              "mean      1.007011e+03  \n",
              "std       1.005877e+03  \n",
              "min       0.000000e+00  \n",
              "25%       0.000000e+00  \n",
              "50%       2.009000e+03  \n",
              "75%       2.012000e+03  \n",
              "max       2.015000e+03  "
            ],
            "text/html": [
              "\n",
              "  <div id=\"df-4572a72c-7664-4ef1-82ac-75c08b66251c\" class=\"colab-df-container\">\n",
              "    <div>\n",
              "<style scoped>\n",
              "    .dataframe tbody tr th:only-of-type {\n",
              "        vertical-align: middle;\n",
              "    }\n",
              "\n",
              "    .dataframe tbody tr th {\n",
              "        vertical-align: top;\n",
              "    }\n",
              "\n",
              "    .dataframe thead th {\n",
              "        text-align: right;\n",
              "    }\n",
              "</style>\n",
              "<table border=\"1\" class=\"dataframe\">\n",
              "  <thead>\n",
              "    <tr style=\"text-align: right;\">\n",
              "      <th></th>\n",
              "      <th>Store</th>\n",
              "      <th>DayOfWeek</th>\n",
              "      <th>Sales</th>\n",
              "      <th>Customers</th>\n",
              "      <th>Open</th>\n",
              "      <th>Promo</th>\n",
              "      <th>StateHoliday</th>\n",
              "      <th>SchoolHoliday</th>\n",
              "      <th>StoreType</th>\n",
              "      <th>Assortment</th>\n",
              "      <th>CompetitionDistance</th>\n",
              "      <th>CompetitionOpenSinceMonth</th>\n",
              "      <th>CompetitionOpenSinceYear</th>\n",
              "      <th>Promo2</th>\n",
              "      <th>Promo2SinceWeek</th>\n",
              "      <th>Promo2SinceYear</th>\n",
              "    </tr>\n",
              "  </thead>\n",
              "  <tbody>\n",
              "    <tr>\n",
              "      <th>count</th>\n",
              "      <td>1.017209e+06</td>\n",
              "      <td>1.017209e+06</td>\n",
              "      <td>1.017209e+06</td>\n",
              "      <td>1.017209e+06</td>\n",
              "      <td>1.017209e+06</td>\n",
              "      <td>1.017209e+06</td>\n",
              "      <td>1.017209e+06</td>\n",
              "      <td>1.017209e+06</td>\n",
              "      <td>1.017209e+06</td>\n",
              "      <td>1.017209e+06</td>\n",
              "      <td>1.017209e+06</td>\n",
              "      <td>1.017209e+06</td>\n",
              "      <td>1.017209e+06</td>\n",
              "      <td>1.017209e+06</td>\n",
              "      <td>1.017209e+06</td>\n",
              "      <td>1.017209e+06</td>\n",
              "    </tr>\n",
              "    <tr>\n",
              "      <th>mean</th>\n",
              "      <td>5.584297e+02</td>\n",
              "      <td>3.998341e+00</td>\n",
              "      <td>5.773819e+03</td>\n",
              "      <td>6.331459e+02</td>\n",
              "      <td>8.301067e-01</td>\n",
              "      <td>3.815145e-01</td>\n",
              "      <td>4.516279e-02</td>\n",
              "      <td>1.786467e-01</td>\n",
              "      <td>1.207467e+00</td>\n",
              "      <td>9.351412e-01</td>\n",
              "      <td>5.422021e+03</td>\n",
              "      <td>5.846762e+00</td>\n",
              "      <td>1.370173e+03</td>\n",
              "      <td>5.005638e-01</td>\n",
              "      <td>1.164767e+01</td>\n",
              "      <td>1.007011e+03</td>\n",
              "    </tr>\n",
              "    <tr>\n",
              "      <th>std</th>\n",
              "      <td>3.219087e+02</td>\n",
              "      <td>1.997391e+00</td>\n",
              "      <td>3.849926e+03</td>\n",
              "      <td>4.644117e+02</td>\n",
              "      <td>3.755392e-01</td>\n",
              "      <td>4.857586e-01</td>\n",
              "      <td>2.836559e-01</td>\n",
              "      <td>3.830564e-01</td>\n",
              "      <td>1.365376e+00</td>\n",
              "      <td>9.938011e-01</td>\n",
              "      <td>7.706918e+03</td>\n",
              "      <td>3.326097e+00</td>\n",
              "      <td>9.353634e+02</td>\n",
              "      <td>4.999999e-01</td>\n",
              "      <td>1.532393e+01</td>\n",
              "      <td>1.005877e+03</td>\n",
              "    </tr>\n",
              "    <tr>\n",
              "      <th>min</th>\n",
              "      <td>1.000000e+00</td>\n",
              "      <td>1.000000e+00</td>\n",
              "      <td>0.000000e+00</td>\n",
              "      <td>0.000000e+00</td>\n",
              "      <td>0.000000e+00</td>\n",
              "      <td>0.000000e+00</td>\n",
              "      <td>0.000000e+00</td>\n",
              "      <td>0.000000e+00</td>\n",
              "      <td>0.000000e+00</td>\n",
              "      <td>0.000000e+00</td>\n",
              "      <td>2.000000e+01</td>\n",
              "      <td>1.000000e+00</td>\n",
              "      <td>0.000000e+00</td>\n",
              "      <td>0.000000e+00</td>\n",
              "      <td>0.000000e+00</td>\n",
              "      <td>0.000000e+00</td>\n",
              "    </tr>\n",
              "    <tr>\n",
              "      <th>25%</th>\n",
              "      <td>2.800000e+02</td>\n",
              "      <td>2.000000e+00</td>\n",
              "      <td>3.727000e+03</td>\n",
              "      <td>4.050000e+02</td>\n",
              "      <td>1.000000e+00</td>\n",
              "      <td>0.000000e+00</td>\n",
              "      <td>0.000000e+00</td>\n",
              "      <td>0.000000e+00</td>\n",
              "      <td>0.000000e+00</td>\n",
              "      <td>0.000000e+00</td>\n",
              "      <td>7.100000e+02</td>\n",
              "      <td>3.000000e+00</td>\n",
              "      <td>0.000000e+00</td>\n",
              "      <td>0.000000e+00</td>\n",
              "      <td>0.000000e+00</td>\n",
              "      <td>0.000000e+00</td>\n",
              "    </tr>\n",
              "    <tr>\n",
              "      <th>50%</th>\n",
              "      <td>5.580000e+02</td>\n",
              "      <td>4.000000e+00</td>\n",
              "      <td>5.744000e+03</td>\n",
              "      <td>6.090000e+02</td>\n",
              "      <td>1.000000e+00</td>\n",
              "      <td>0.000000e+00</td>\n",
              "      <td>0.000000e+00</td>\n",
              "      <td>0.000000e+00</td>\n",
              "      <td>0.000000e+00</td>\n",
              "      <td>0.000000e+00</td>\n",
              "      <td>2.325000e+03</td>\n",
              "      <td>6.000000e+00</td>\n",
              "      <td>2.006000e+03</td>\n",
              "      <td>1.000000e+00</td>\n",
              "      <td>1.000000e+00</td>\n",
              "      <td>2.009000e+03</td>\n",
              "    </tr>\n",
              "    <tr>\n",
              "      <th>75%</th>\n",
              "      <td>8.380000e+02</td>\n",
              "      <td>6.000000e+00</td>\n",
              "      <td>7.856000e+03</td>\n",
              "      <td>8.370000e+02</td>\n",
              "      <td>1.000000e+00</td>\n",
              "      <td>1.000000e+00</td>\n",
              "      <td>0.000000e+00</td>\n",
              "      <td>0.000000e+00</td>\n",
              "      <td>3.000000e+00</td>\n",
              "      <td>2.000000e+00</td>\n",
              "      <td>6.880000e+03</td>\n",
              "      <td>8.000000e+00</td>\n",
              "      <td>2.011000e+03</td>\n",
              "      <td>1.000000e+00</td>\n",
              "      <td>2.200000e+01</td>\n",
              "      <td>2.012000e+03</td>\n",
              "    </tr>\n",
              "    <tr>\n",
              "      <th>max</th>\n",
              "      <td>1.115000e+03</td>\n",
              "      <td>7.000000e+00</td>\n",
              "      <td>4.155100e+04</td>\n",
              "      <td>7.388000e+03</td>\n",
              "      <td>1.000000e+00</td>\n",
              "      <td>1.000000e+00</td>\n",
              "      <td>3.000000e+00</td>\n",
              "      <td>1.000000e+00</td>\n",
              "      <td>3.000000e+00</td>\n",
              "      <td>2.000000e+00</td>\n",
              "      <td>7.586000e+04</td>\n",
              "      <td>1.200000e+01</td>\n",
              "      <td>2.015000e+03</td>\n",
              "      <td>1.000000e+00</td>\n",
              "      <td>5.000000e+01</td>\n",
              "      <td>2.015000e+03</td>\n",
              "    </tr>\n",
              "  </tbody>\n",
              "</table>\n",
              "</div>\n",
              "    <div class=\"colab-df-buttons\">\n",
              "\n",
              "  <div class=\"colab-df-container\">\n",
              "    <button class=\"colab-df-convert\" onclick=\"convertToInteractive('df-4572a72c-7664-4ef1-82ac-75c08b66251c')\"\n",
              "            title=\"Convert this dataframe to an interactive table.\"\n",
              "            style=\"display:none;\">\n",
              "\n",
              "  <svg xmlns=\"http://www.w3.org/2000/svg\" height=\"24px\" viewBox=\"0 -960 960 960\">\n",
              "    <path d=\"M120-120v-720h720v720H120Zm60-500h600v-160H180v160Zm220 220h160v-160H400v160Zm0 220h160v-160H400v160ZM180-400h160v-160H180v160Zm440 0h160v-160H620v160ZM180-180h160v-160H180v160Zm440 0h160v-160H620v160Z\"/>\n",
              "  </svg>\n",
              "    </button>\n",
              "\n",
              "  <style>\n",
              "    .colab-df-container {\n",
              "      display:flex;\n",
              "      gap: 12px;\n",
              "    }\n",
              "\n",
              "    .colab-df-convert {\n",
              "      background-color: #E8F0FE;\n",
              "      border: none;\n",
              "      border-radius: 50%;\n",
              "      cursor: pointer;\n",
              "      display: none;\n",
              "      fill: #1967D2;\n",
              "      height: 32px;\n",
              "      padding: 0 0 0 0;\n",
              "      width: 32px;\n",
              "    }\n",
              "\n",
              "    .colab-df-convert:hover {\n",
              "      background-color: #E2EBFA;\n",
              "      box-shadow: 0px 1px 2px rgba(60, 64, 67, 0.3), 0px 1px 3px 1px rgba(60, 64, 67, 0.15);\n",
              "      fill: #174EA6;\n",
              "    }\n",
              "\n",
              "    .colab-df-buttons div {\n",
              "      margin-bottom: 4px;\n",
              "    }\n",
              "\n",
              "    [theme=dark] .colab-df-convert {\n",
              "      background-color: #3B4455;\n",
              "      fill: #D2E3FC;\n",
              "    }\n",
              "\n",
              "    [theme=dark] .colab-df-convert:hover {\n",
              "      background-color: #434B5C;\n",
              "      box-shadow: 0px 1px 3px 1px rgba(0, 0, 0, 0.15);\n",
              "      filter: drop-shadow(0px 1px 2px rgba(0, 0, 0, 0.3));\n",
              "      fill: #FFFFFF;\n",
              "    }\n",
              "  </style>\n",
              "\n",
              "    <script>\n",
              "      const buttonEl =\n",
              "        document.querySelector('#df-4572a72c-7664-4ef1-82ac-75c08b66251c button.colab-df-convert');\n",
              "      buttonEl.style.display =\n",
              "        google.colab.kernel.accessAllowed ? 'block' : 'none';\n",
              "\n",
              "      async function convertToInteractive(key) {\n",
              "        const element = document.querySelector('#df-4572a72c-7664-4ef1-82ac-75c08b66251c');\n",
              "        const dataTable =\n",
              "          await google.colab.kernel.invokeFunction('convertToInteractive',\n",
              "                                                    [key], {});\n",
              "        if (!dataTable) return;\n",
              "\n",
              "        const docLinkHtml = 'Like what you see? Visit the ' +\n",
              "          '<a target=\"_blank\" href=https://colab.research.google.com/notebooks/data_table.ipynb>data table notebook</a>'\n",
              "          + ' to learn more about interactive tables.';\n",
              "        element.innerHTML = '';\n",
              "        dataTable['output_type'] = 'display_data';\n",
              "        await google.colab.output.renderOutput(dataTable, element);\n",
              "        const docLink = document.createElement('div');\n",
              "        docLink.innerHTML = docLinkHtml;\n",
              "        element.appendChild(docLink);\n",
              "      }\n",
              "    </script>\n",
              "  </div>\n",
              "\n",
              "\n",
              "<div id=\"df-492d0ca5-dab3-400b-839a-49339227ad58\">\n",
              "  <button class=\"colab-df-quickchart\" onclick=\"quickchart('df-492d0ca5-dab3-400b-839a-49339227ad58')\"\n",
              "            title=\"Suggest charts.\"\n",
              "            style=\"display:none;\">\n",
              "\n",
              "<svg xmlns=\"http://www.w3.org/2000/svg\" height=\"24px\"viewBox=\"0 0 24 24\"\n",
              "     width=\"24px\">\n",
              "    <g>\n",
              "        <path d=\"M19 3H5c-1.1 0-2 .9-2 2v14c0 1.1.9 2 2 2h14c1.1 0 2-.9 2-2V5c0-1.1-.9-2-2-2zM9 17H7v-7h2v7zm4 0h-2V7h2v10zm4 0h-2v-4h2v4z\"/>\n",
              "    </g>\n",
              "</svg>\n",
              "  </button>\n",
              "\n",
              "<style>\n",
              "  .colab-df-quickchart {\n",
              "      --bg-color: #E8F0FE;\n",
              "      --fill-color: #1967D2;\n",
              "      --hover-bg-color: #E2EBFA;\n",
              "      --hover-fill-color: #174EA6;\n",
              "      --disabled-fill-color: #AAA;\n",
              "      --disabled-bg-color: #DDD;\n",
              "  }\n",
              "\n",
              "  [theme=dark] .colab-df-quickchart {\n",
              "      --bg-color: #3B4455;\n",
              "      --fill-color: #D2E3FC;\n",
              "      --hover-bg-color: #434B5C;\n",
              "      --hover-fill-color: #FFFFFF;\n",
              "      --disabled-bg-color: #3B4455;\n",
              "      --disabled-fill-color: #666;\n",
              "  }\n",
              "\n",
              "  .colab-df-quickchart {\n",
              "    background-color: var(--bg-color);\n",
              "    border: none;\n",
              "    border-radius: 50%;\n",
              "    cursor: pointer;\n",
              "    display: none;\n",
              "    fill: var(--fill-color);\n",
              "    height: 32px;\n",
              "    padding: 0;\n",
              "    width: 32px;\n",
              "  }\n",
              "\n",
              "  .colab-df-quickchart:hover {\n",
              "    background-color: var(--hover-bg-color);\n",
              "    box-shadow: 0 1px 2px rgba(60, 64, 67, 0.3), 0 1px 3px 1px rgba(60, 64, 67, 0.15);\n",
              "    fill: var(--button-hover-fill-color);\n",
              "  }\n",
              "\n",
              "  .colab-df-quickchart-complete:disabled,\n",
              "  .colab-df-quickchart-complete:disabled:hover {\n",
              "    background-color: var(--disabled-bg-color);\n",
              "    fill: var(--disabled-fill-color);\n",
              "    box-shadow: none;\n",
              "  }\n",
              "\n",
              "  .colab-df-spinner {\n",
              "    border: 2px solid var(--fill-color);\n",
              "    border-color: transparent;\n",
              "    border-bottom-color: var(--fill-color);\n",
              "    animation:\n",
              "      spin 1s steps(1) infinite;\n",
              "  }\n",
              "\n",
              "  @keyframes spin {\n",
              "    0% {\n",
              "      border-color: transparent;\n",
              "      border-bottom-color: var(--fill-color);\n",
              "      border-left-color: var(--fill-color);\n",
              "    }\n",
              "    20% {\n",
              "      border-color: transparent;\n",
              "      border-left-color: var(--fill-color);\n",
              "      border-top-color: var(--fill-color);\n",
              "    }\n",
              "    30% {\n",
              "      border-color: transparent;\n",
              "      border-left-color: var(--fill-color);\n",
              "      border-top-color: var(--fill-color);\n",
              "      border-right-color: var(--fill-color);\n",
              "    }\n",
              "    40% {\n",
              "      border-color: transparent;\n",
              "      border-right-color: var(--fill-color);\n",
              "      border-top-color: var(--fill-color);\n",
              "    }\n",
              "    60% {\n",
              "      border-color: transparent;\n",
              "      border-right-color: var(--fill-color);\n",
              "    }\n",
              "    80% {\n",
              "      border-color: transparent;\n",
              "      border-right-color: var(--fill-color);\n",
              "      border-bottom-color: var(--fill-color);\n",
              "    }\n",
              "    90% {\n",
              "      border-color: transparent;\n",
              "      border-bottom-color: var(--fill-color);\n",
              "    }\n",
              "  }\n",
              "</style>\n",
              "\n",
              "  <script>\n",
              "    async function quickchart(key) {\n",
              "      const quickchartButtonEl =\n",
              "        document.querySelector('#' + key + ' button');\n",
              "      quickchartButtonEl.disabled = true;  // To prevent multiple clicks.\n",
              "      quickchartButtonEl.classList.add('colab-df-spinner');\n",
              "      try {\n",
              "        const charts = await google.colab.kernel.invokeFunction(\n",
              "            'suggestCharts', [key], {});\n",
              "      } catch (error) {\n",
              "        console.error('Error during call to suggestCharts:', error);\n",
              "      }\n",
              "      quickchartButtonEl.classList.remove('colab-df-spinner');\n",
              "      quickchartButtonEl.classList.add('colab-df-quickchart-complete');\n",
              "    }\n",
              "    (() => {\n",
              "      let quickchartButtonEl =\n",
              "        document.querySelector('#df-492d0ca5-dab3-400b-839a-49339227ad58 button');\n",
              "      quickchartButtonEl.style.display =\n",
              "        google.colab.kernel.accessAllowed ? 'block' : 'none';\n",
              "    })();\n",
              "  </script>\n",
              "</div>\n",
              "    </div>\n",
              "  </div>\n"
            ]
          },
          "metadata": {},
          "execution_count": 27
        }
      ]
    },
    {
      "cell_type": "markdown",
      "source": [
        "### Variables Description"
      ],
      "metadata": {
        "id": "PBTbrJXOngz2"
      }
    },
    {
      "cell_type": "markdown",
      "source": [
        "\n",
        "*   Id - an Id that represents a (Store, Date) duple within the test set\n",
        "*  Store - a unique Id for each store\n",
        "*   Sales - the turnover for any given day (this is what you are predicting)\n",
        "*   Customers - the number of customers on a given day\n",
        "\n",
        "*   Open - an indicator for whether the store was open: 0 = closed, 1 = open\n",
        "*  StateHoliday - indicates a state holiday. Normally all stores, with few exceptions, are closed on state holidays. Note that all schools are closed on public holidays and weekends. a = public holiday, b = Easter holiday, c = Christmas, 0 = None\n",
        "\n",
        "*   SchoolHoliday - indicates if the (Store, Date) was affected by the closure of public schools\n",
        "*   StoreType - differentiates between 4 different store models: a, b, c, d\n",
        "\n",
        "*   Assortment - describes an assortment level: a = basic, b = extra, c = extended\n",
        "*   CompetitionDistance - distance in meters to the nearest competitor store\n",
        "\n",
        "*   CompetitionOpenSince[Month/Year] - gives the approximate year and month of the time the nearest competitor was opened\n",
        "\n",
        "*   Promo - indicates whether a store is running a promo on that day\n",
        "\n",
        "*   Promo2 - Promo2 is a continuing and consecutive promotion for some stores: 0 = store is not participating, 1 = store is participating\n",
        "\n",
        "*   Promo2Since[Year/Week] - describes the year and calendar week when the store started participating in Promo2\n",
        "*   PromoInterval - describes the consecutive intervals Promo2 is started, naming the months the promotion is started anew. E.g. \"Feb,May,Aug,Nov\" means each round starts in February, May, August, November of any given year for that store\n",
        "\n",
        "\n",
        "\n",
        "\n",
        "\n",
        "\n",
        "\n",
        "\n",
        "\n",
        "\n",
        "\n",
        "\n",
        "\n",
        "\n",
        "\n",
        "\n",
        "\n",
        "\n",
        "\n",
        "\n",
        "\n",
        "\n",
        "\n"
      ],
      "metadata": {
        "id": "aJV4KIxSnxay"
      }
    },
    {
      "cell_type": "markdown",
      "source": [
        "### Check Unique Values for each variable."
      ],
      "metadata": {
        "id": "u3PMJOP6ngxN"
      }
    },
    {
      "cell_type": "code",
      "source": [
        "# Check Unique Values for each variable.\n",
        "for i in ds_final.columns:\n",
        "   print(i,ds_final[i].unique())"
      ],
      "metadata": {
        "id": "zms12Yq5n-jE",
        "colab": {
          "base_uri": "https://localhost:8080/"
        },
        "outputId": "8b45eb1f-86e0-427e-e53d-71827ccccb2e"
      },
      "execution_count": 28,
      "outputs": [
        {
          "output_type": "stream",
          "name": "stdout",
          "text": [
            "Store [   1    2    3 ... 1113 1114 1115]\n",
            "DayOfWeek [5 4 3 2 1 7 6]\n",
            "Date ['2015-07-31T00:00:00.000000000' '2015-07-30T00:00:00.000000000'\n",
            " '2015-07-29T00:00:00.000000000' '2015-07-28T00:00:00.000000000'\n",
            " '2015-07-27T00:00:00.000000000' '2015-07-26T00:00:00.000000000'\n",
            " '2015-07-25T00:00:00.000000000' '2015-07-24T00:00:00.000000000'\n",
            " '2015-07-23T00:00:00.000000000' '2015-07-22T00:00:00.000000000'\n",
            " '2015-07-21T00:00:00.000000000' '2015-07-20T00:00:00.000000000'\n",
            " '2015-07-19T00:00:00.000000000' '2015-07-18T00:00:00.000000000'\n",
            " '2015-07-17T00:00:00.000000000' '2015-07-16T00:00:00.000000000'\n",
            " '2015-07-15T00:00:00.000000000' '2015-07-14T00:00:00.000000000'\n",
            " '2015-07-13T00:00:00.000000000' '2015-07-12T00:00:00.000000000'\n",
            " '2015-07-11T00:00:00.000000000' '2015-07-10T00:00:00.000000000'\n",
            " '2015-07-09T00:00:00.000000000' '2015-07-08T00:00:00.000000000'\n",
            " '2015-07-07T00:00:00.000000000' '2015-07-06T00:00:00.000000000'\n",
            " '2015-07-05T00:00:00.000000000' '2015-07-04T00:00:00.000000000'\n",
            " '2015-07-03T00:00:00.000000000' '2015-07-02T00:00:00.000000000'\n",
            " '2015-07-01T00:00:00.000000000' '2015-06-30T00:00:00.000000000'\n",
            " '2015-06-29T00:00:00.000000000' '2015-06-28T00:00:00.000000000'\n",
            " '2015-06-27T00:00:00.000000000' '2015-06-26T00:00:00.000000000'\n",
            " '2015-06-25T00:00:00.000000000' '2015-06-24T00:00:00.000000000'\n",
            " '2015-06-23T00:00:00.000000000' '2015-06-22T00:00:00.000000000'\n",
            " '2015-06-21T00:00:00.000000000' '2015-06-20T00:00:00.000000000'\n",
            " '2015-06-19T00:00:00.000000000' '2015-06-18T00:00:00.000000000'\n",
            " '2015-06-17T00:00:00.000000000' '2015-06-16T00:00:00.000000000'\n",
            " '2015-06-15T00:00:00.000000000' '2015-06-14T00:00:00.000000000'\n",
            " '2015-06-13T00:00:00.000000000' '2015-06-12T00:00:00.000000000'\n",
            " '2015-06-11T00:00:00.000000000' '2015-06-10T00:00:00.000000000'\n",
            " '2015-06-09T00:00:00.000000000' '2015-06-08T00:00:00.000000000'\n",
            " '2015-06-07T00:00:00.000000000' '2015-06-06T00:00:00.000000000'\n",
            " '2015-06-05T00:00:00.000000000' '2015-06-04T00:00:00.000000000'\n",
            " '2015-06-03T00:00:00.000000000' '2015-06-02T00:00:00.000000000'\n",
            " '2015-06-01T00:00:00.000000000' '2015-05-31T00:00:00.000000000'\n",
            " '2015-05-30T00:00:00.000000000' '2015-05-29T00:00:00.000000000'\n",
            " '2015-05-28T00:00:00.000000000' '2015-05-27T00:00:00.000000000'\n",
            " '2015-05-26T00:00:00.000000000' '2015-05-25T00:00:00.000000000'\n",
            " '2015-05-24T00:00:00.000000000' '2015-05-23T00:00:00.000000000'\n",
            " '2015-05-22T00:00:00.000000000' '2015-05-21T00:00:00.000000000'\n",
            " '2015-05-20T00:00:00.000000000' '2015-05-19T00:00:00.000000000'\n",
            " '2015-05-18T00:00:00.000000000' '2015-05-17T00:00:00.000000000'\n",
            " '2015-05-16T00:00:00.000000000' '2015-05-15T00:00:00.000000000'\n",
            " '2015-05-14T00:00:00.000000000' '2015-05-13T00:00:00.000000000'\n",
            " '2015-05-12T00:00:00.000000000' '2015-05-11T00:00:00.000000000'\n",
            " '2015-05-10T00:00:00.000000000' '2015-05-09T00:00:00.000000000'\n",
            " '2015-05-08T00:00:00.000000000' '2015-05-07T00:00:00.000000000'\n",
            " '2015-05-06T00:00:00.000000000' '2015-05-05T00:00:00.000000000'\n",
            " '2015-05-04T00:00:00.000000000' '2015-05-03T00:00:00.000000000'\n",
            " '2015-05-02T00:00:00.000000000' '2015-05-01T00:00:00.000000000'\n",
            " '2015-04-30T00:00:00.000000000' '2015-04-29T00:00:00.000000000'\n",
            " '2015-04-28T00:00:00.000000000' '2015-04-27T00:00:00.000000000'\n",
            " '2015-04-26T00:00:00.000000000' '2015-04-25T00:00:00.000000000'\n",
            " '2015-04-24T00:00:00.000000000' '2015-04-23T00:00:00.000000000'\n",
            " '2015-04-22T00:00:00.000000000' '2015-04-21T00:00:00.000000000'\n",
            " '2015-04-20T00:00:00.000000000' '2015-04-19T00:00:00.000000000'\n",
            " '2015-04-18T00:00:00.000000000' '2015-04-17T00:00:00.000000000'\n",
            " '2015-04-16T00:00:00.000000000' '2015-04-15T00:00:00.000000000'\n",
            " '2015-04-14T00:00:00.000000000' '2015-04-13T00:00:00.000000000'\n",
            " '2015-04-12T00:00:00.000000000' '2015-04-11T00:00:00.000000000'\n",
            " '2015-04-10T00:00:00.000000000' '2015-04-09T00:00:00.000000000'\n",
            " '2015-04-08T00:00:00.000000000' '2015-04-07T00:00:00.000000000'\n",
            " '2015-04-06T00:00:00.000000000' '2015-04-05T00:00:00.000000000'\n",
            " '2015-04-04T00:00:00.000000000' '2015-04-03T00:00:00.000000000'\n",
            " '2015-04-02T00:00:00.000000000' '2015-04-01T00:00:00.000000000'\n",
            " '2015-03-31T00:00:00.000000000' '2015-03-30T00:00:00.000000000'\n",
            " '2015-03-29T00:00:00.000000000' '2015-03-28T00:00:00.000000000'\n",
            " '2015-03-27T00:00:00.000000000' '2015-03-26T00:00:00.000000000'\n",
            " '2015-03-25T00:00:00.000000000' '2015-03-24T00:00:00.000000000'\n",
            " '2015-03-23T00:00:00.000000000' '2015-03-22T00:00:00.000000000'\n",
            " '2015-03-21T00:00:00.000000000' '2015-03-20T00:00:00.000000000'\n",
            " '2015-03-19T00:00:00.000000000' '2015-03-18T00:00:00.000000000'\n",
            " '2015-03-17T00:00:00.000000000' '2015-03-16T00:00:00.000000000'\n",
            " '2015-03-15T00:00:00.000000000' '2015-03-14T00:00:00.000000000'\n",
            " '2015-03-13T00:00:00.000000000' '2015-03-12T00:00:00.000000000'\n",
            " '2015-03-11T00:00:00.000000000' '2015-03-10T00:00:00.000000000'\n",
            " '2015-03-09T00:00:00.000000000' '2015-03-08T00:00:00.000000000'\n",
            " '2015-03-07T00:00:00.000000000' '2015-03-06T00:00:00.000000000'\n",
            " '2015-03-05T00:00:00.000000000' '2015-03-04T00:00:00.000000000'\n",
            " '2015-03-03T00:00:00.000000000' '2015-03-02T00:00:00.000000000'\n",
            " '2015-03-01T00:00:00.000000000' '2015-02-28T00:00:00.000000000'\n",
            " '2015-02-27T00:00:00.000000000' '2015-02-26T00:00:00.000000000'\n",
            " '2015-02-25T00:00:00.000000000' '2015-02-24T00:00:00.000000000'\n",
            " '2015-02-23T00:00:00.000000000' '2015-02-22T00:00:00.000000000'\n",
            " '2015-02-21T00:00:00.000000000' '2015-02-20T00:00:00.000000000'\n",
            " '2015-02-19T00:00:00.000000000' '2015-02-18T00:00:00.000000000'\n",
            " '2015-02-17T00:00:00.000000000' '2015-02-16T00:00:00.000000000'\n",
            " '2015-02-15T00:00:00.000000000' '2015-02-14T00:00:00.000000000'\n",
            " '2015-02-13T00:00:00.000000000' '2015-02-12T00:00:00.000000000'\n",
            " '2015-02-11T00:00:00.000000000' '2015-02-10T00:00:00.000000000'\n",
            " '2015-02-09T00:00:00.000000000' '2015-02-08T00:00:00.000000000'\n",
            " '2015-02-07T00:00:00.000000000' '2015-02-06T00:00:00.000000000'\n",
            " '2015-02-05T00:00:00.000000000' '2015-02-04T00:00:00.000000000'\n",
            " '2015-02-03T00:00:00.000000000' '2015-02-02T00:00:00.000000000'\n",
            " '2015-02-01T00:00:00.000000000' '2015-01-31T00:00:00.000000000'\n",
            " '2015-01-30T00:00:00.000000000' '2015-01-29T00:00:00.000000000'\n",
            " '2015-01-28T00:00:00.000000000' '2015-01-27T00:00:00.000000000'\n",
            " '2015-01-26T00:00:00.000000000' '2015-01-25T00:00:00.000000000'\n",
            " '2015-01-24T00:00:00.000000000' '2015-01-23T00:00:00.000000000'\n",
            " '2015-01-22T00:00:00.000000000' '2015-01-21T00:00:00.000000000'\n",
            " '2015-01-20T00:00:00.000000000' '2015-01-19T00:00:00.000000000'\n",
            " '2015-01-18T00:00:00.000000000' '2015-01-17T00:00:00.000000000'\n",
            " '2015-01-16T00:00:00.000000000' '2015-01-15T00:00:00.000000000'\n",
            " '2015-01-14T00:00:00.000000000' '2015-01-13T00:00:00.000000000'\n",
            " '2015-01-12T00:00:00.000000000' '2015-01-11T00:00:00.000000000'\n",
            " '2015-01-10T00:00:00.000000000' '2015-01-09T00:00:00.000000000'\n",
            " '2015-01-08T00:00:00.000000000' '2015-01-07T00:00:00.000000000'\n",
            " '2015-01-06T00:00:00.000000000' '2015-01-05T00:00:00.000000000'\n",
            " '2015-01-04T00:00:00.000000000' '2015-01-03T00:00:00.000000000'\n",
            " '2015-01-02T00:00:00.000000000' '2015-01-01T00:00:00.000000000'\n",
            " '2014-12-31T00:00:00.000000000' '2014-12-30T00:00:00.000000000'\n",
            " '2014-12-29T00:00:00.000000000' '2014-12-28T00:00:00.000000000'\n",
            " '2014-12-27T00:00:00.000000000' '2014-12-26T00:00:00.000000000'\n",
            " '2014-12-25T00:00:00.000000000' '2014-12-24T00:00:00.000000000'\n",
            " '2014-12-23T00:00:00.000000000' '2014-12-22T00:00:00.000000000'\n",
            " '2014-12-21T00:00:00.000000000' '2014-12-20T00:00:00.000000000'\n",
            " '2014-12-19T00:00:00.000000000' '2014-12-18T00:00:00.000000000'\n",
            " '2014-12-17T00:00:00.000000000' '2014-12-16T00:00:00.000000000'\n",
            " '2014-12-15T00:00:00.000000000' '2014-12-14T00:00:00.000000000'\n",
            " '2014-12-13T00:00:00.000000000' '2014-12-12T00:00:00.000000000'\n",
            " '2014-12-11T00:00:00.000000000' '2014-12-10T00:00:00.000000000'\n",
            " '2014-12-09T00:00:00.000000000' '2014-12-08T00:00:00.000000000'\n",
            " '2014-12-07T00:00:00.000000000' '2014-12-06T00:00:00.000000000'\n",
            " '2014-12-05T00:00:00.000000000' '2014-12-04T00:00:00.000000000'\n",
            " '2014-12-03T00:00:00.000000000' '2014-12-02T00:00:00.000000000'\n",
            " '2014-12-01T00:00:00.000000000' '2014-11-30T00:00:00.000000000'\n",
            " '2014-11-29T00:00:00.000000000' '2014-11-28T00:00:00.000000000'\n",
            " '2014-11-27T00:00:00.000000000' '2014-11-26T00:00:00.000000000'\n",
            " '2014-11-25T00:00:00.000000000' '2014-11-24T00:00:00.000000000'\n",
            " '2014-11-23T00:00:00.000000000' '2014-11-22T00:00:00.000000000'\n",
            " '2014-11-21T00:00:00.000000000' '2014-11-20T00:00:00.000000000'\n",
            " '2014-11-19T00:00:00.000000000' '2014-11-18T00:00:00.000000000'\n",
            " '2014-11-17T00:00:00.000000000' '2014-11-16T00:00:00.000000000'\n",
            " '2014-11-15T00:00:00.000000000' '2014-11-14T00:00:00.000000000'\n",
            " '2014-11-13T00:00:00.000000000' '2014-11-12T00:00:00.000000000'\n",
            " '2014-11-11T00:00:00.000000000' '2014-11-10T00:00:00.000000000'\n",
            " '2014-11-09T00:00:00.000000000' '2014-11-08T00:00:00.000000000'\n",
            " '2014-11-07T00:00:00.000000000' '2014-11-06T00:00:00.000000000'\n",
            " '2014-11-05T00:00:00.000000000' '2014-11-04T00:00:00.000000000'\n",
            " '2014-11-03T00:00:00.000000000' '2014-11-02T00:00:00.000000000'\n",
            " '2014-11-01T00:00:00.000000000' '2014-10-31T00:00:00.000000000'\n",
            " '2014-10-30T00:00:00.000000000' '2014-10-29T00:00:00.000000000'\n",
            " '2014-10-28T00:00:00.000000000' '2014-10-27T00:00:00.000000000'\n",
            " '2014-10-26T00:00:00.000000000' '2014-10-25T00:00:00.000000000'\n",
            " '2014-10-24T00:00:00.000000000' '2014-10-23T00:00:00.000000000'\n",
            " '2014-10-22T00:00:00.000000000' '2014-10-21T00:00:00.000000000'\n",
            " '2014-10-20T00:00:00.000000000' '2014-10-19T00:00:00.000000000'\n",
            " '2014-10-18T00:00:00.000000000' '2014-10-17T00:00:00.000000000'\n",
            " '2014-10-16T00:00:00.000000000' '2014-10-15T00:00:00.000000000'\n",
            " '2014-10-14T00:00:00.000000000' '2014-10-13T00:00:00.000000000'\n",
            " '2014-10-12T00:00:00.000000000' '2014-10-11T00:00:00.000000000'\n",
            " '2014-10-10T00:00:00.000000000' '2014-10-09T00:00:00.000000000'\n",
            " '2014-10-08T00:00:00.000000000' '2014-10-07T00:00:00.000000000'\n",
            " '2014-10-06T00:00:00.000000000' '2014-10-05T00:00:00.000000000'\n",
            " '2014-10-04T00:00:00.000000000' '2014-10-03T00:00:00.000000000'\n",
            " '2014-10-02T00:00:00.000000000' '2014-10-01T00:00:00.000000000'\n",
            " '2014-09-30T00:00:00.000000000' '2014-09-29T00:00:00.000000000'\n",
            " '2014-09-28T00:00:00.000000000' '2014-09-27T00:00:00.000000000'\n",
            " '2014-09-26T00:00:00.000000000' '2014-09-25T00:00:00.000000000'\n",
            " '2014-09-24T00:00:00.000000000' '2014-09-23T00:00:00.000000000'\n",
            " '2014-09-22T00:00:00.000000000' '2014-09-21T00:00:00.000000000'\n",
            " '2014-09-20T00:00:00.000000000' '2014-09-19T00:00:00.000000000'\n",
            " '2014-09-18T00:00:00.000000000' '2014-09-17T00:00:00.000000000'\n",
            " '2014-09-16T00:00:00.000000000' '2014-09-15T00:00:00.000000000'\n",
            " '2014-09-14T00:00:00.000000000' '2014-09-13T00:00:00.000000000'\n",
            " '2014-09-12T00:00:00.000000000' '2014-09-11T00:00:00.000000000'\n",
            " '2014-09-10T00:00:00.000000000' '2014-09-09T00:00:00.000000000'\n",
            " '2014-09-08T00:00:00.000000000' '2014-09-07T00:00:00.000000000'\n",
            " '2014-09-06T00:00:00.000000000' '2014-09-05T00:00:00.000000000'\n",
            " '2014-09-04T00:00:00.000000000' '2014-09-03T00:00:00.000000000'\n",
            " '2014-09-02T00:00:00.000000000' '2014-09-01T00:00:00.000000000'\n",
            " '2014-08-31T00:00:00.000000000' '2014-08-30T00:00:00.000000000'\n",
            " '2014-08-29T00:00:00.000000000' '2014-08-28T00:00:00.000000000'\n",
            " '2014-08-27T00:00:00.000000000' '2014-08-26T00:00:00.000000000'\n",
            " '2014-08-25T00:00:00.000000000' '2014-08-24T00:00:00.000000000'\n",
            " '2014-08-23T00:00:00.000000000' '2014-08-22T00:00:00.000000000'\n",
            " '2014-08-21T00:00:00.000000000' '2014-08-20T00:00:00.000000000'\n",
            " '2014-08-19T00:00:00.000000000' '2014-08-18T00:00:00.000000000'\n",
            " '2014-08-17T00:00:00.000000000' '2014-08-16T00:00:00.000000000'\n",
            " '2014-08-15T00:00:00.000000000' '2014-08-14T00:00:00.000000000'\n",
            " '2014-08-13T00:00:00.000000000' '2014-08-12T00:00:00.000000000'\n",
            " '2014-08-11T00:00:00.000000000' '2014-08-10T00:00:00.000000000'\n",
            " '2014-08-09T00:00:00.000000000' '2014-08-08T00:00:00.000000000'\n",
            " '2014-08-07T00:00:00.000000000' '2014-08-06T00:00:00.000000000'\n",
            " '2014-08-05T00:00:00.000000000' '2014-08-04T00:00:00.000000000'\n",
            " '2014-08-03T00:00:00.000000000' '2014-08-02T00:00:00.000000000'\n",
            " '2014-08-01T00:00:00.000000000' '2014-07-31T00:00:00.000000000'\n",
            " '2014-07-30T00:00:00.000000000' '2014-07-29T00:00:00.000000000'\n",
            " '2014-07-28T00:00:00.000000000' '2014-07-27T00:00:00.000000000'\n",
            " '2014-07-26T00:00:00.000000000' '2014-07-25T00:00:00.000000000'\n",
            " '2014-07-24T00:00:00.000000000' '2014-07-23T00:00:00.000000000'\n",
            " '2014-07-22T00:00:00.000000000' '2014-07-21T00:00:00.000000000'\n",
            " '2014-07-20T00:00:00.000000000' '2014-07-19T00:00:00.000000000'\n",
            " '2014-07-18T00:00:00.000000000' '2014-07-17T00:00:00.000000000'\n",
            " '2014-07-16T00:00:00.000000000' '2014-07-15T00:00:00.000000000'\n",
            " '2014-07-14T00:00:00.000000000' '2014-07-13T00:00:00.000000000'\n",
            " '2014-07-12T00:00:00.000000000' '2014-07-11T00:00:00.000000000'\n",
            " '2014-07-10T00:00:00.000000000' '2014-07-09T00:00:00.000000000'\n",
            " '2014-07-08T00:00:00.000000000' '2014-07-07T00:00:00.000000000'\n",
            " '2014-07-06T00:00:00.000000000' '2014-07-05T00:00:00.000000000'\n",
            " '2014-07-04T00:00:00.000000000' '2014-07-03T00:00:00.000000000'\n",
            " '2014-07-02T00:00:00.000000000' '2014-07-01T00:00:00.000000000'\n",
            " '2014-06-30T00:00:00.000000000' '2014-06-29T00:00:00.000000000'\n",
            " '2014-06-28T00:00:00.000000000' '2014-06-27T00:00:00.000000000'\n",
            " '2014-06-26T00:00:00.000000000' '2014-06-25T00:00:00.000000000'\n",
            " '2014-06-24T00:00:00.000000000' '2014-06-23T00:00:00.000000000'\n",
            " '2014-06-22T00:00:00.000000000' '2014-06-21T00:00:00.000000000'\n",
            " '2014-06-20T00:00:00.000000000' '2014-06-19T00:00:00.000000000'\n",
            " '2014-06-18T00:00:00.000000000' '2014-06-17T00:00:00.000000000'\n",
            " '2014-06-16T00:00:00.000000000' '2014-06-15T00:00:00.000000000'\n",
            " '2014-06-14T00:00:00.000000000' '2014-06-13T00:00:00.000000000'\n",
            " '2014-06-12T00:00:00.000000000' '2014-06-11T00:00:00.000000000'\n",
            " '2014-06-10T00:00:00.000000000' '2014-06-09T00:00:00.000000000'\n",
            " '2014-06-08T00:00:00.000000000' '2014-06-07T00:00:00.000000000'\n",
            " '2014-06-06T00:00:00.000000000' '2014-06-05T00:00:00.000000000'\n",
            " '2014-06-04T00:00:00.000000000' '2014-06-03T00:00:00.000000000'\n",
            " '2014-06-02T00:00:00.000000000' '2014-06-01T00:00:00.000000000'\n",
            " '2014-05-31T00:00:00.000000000' '2014-05-30T00:00:00.000000000'\n",
            " '2014-05-29T00:00:00.000000000' '2014-05-28T00:00:00.000000000'\n",
            " '2014-05-27T00:00:00.000000000' '2014-05-26T00:00:00.000000000'\n",
            " '2014-05-25T00:00:00.000000000' '2014-05-24T00:00:00.000000000'\n",
            " '2014-05-23T00:00:00.000000000' '2014-05-22T00:00:00.000000000'\n",
            " '2014-05-21T00:00:00.000000000' '2014-05-20T00:00:00.000000000'\n",
            " '2014-05-19T00:00:00.000000000' '2014-05-18T00:00:00.000000000'\n",
            " '2014-05-17T00:00:00.000000000' '2014-05-16T00:00:00.000000000'\n",
            " '2014-05-15T00:00:00.000000000' '2014-05-14T00:00:00.000000000'\n",
            " '2014-05-13T00:00:00.000000000' '2014-05-12T00:00:00.000000000'\n",
            " '2014-05-11T00:00:00.000000000' '2014-05-10T00:00:00.000000000'\n",
            " '2014-05-09T00:00:00.000000000' '2014-05-08T00:00:00.000000000'\n",
            " '2014-05-07T00:00:00.000000000' '2014-05-06T00:00:00.000000000'\n",
            " '2014-05-05T00:00:00.000000000' '2014-05-04T00:00:00.000000000'\n",
            " '2014-05-03T00:00:00.000000000' '2014-05-02T00:00:00.000000000'\n",
            " '2014-05-01T00:00:00.000000000' '2014-04-30T00:00:00.000000000'\n",
            " '2014-04-29T00:00:00.000000000' '2014-04-28T00:00:00.000000000'\n",
            " '2014-04-27T00:00:00.000000000' '2014-04-26T00:00:00.000000000'\n",
            " '2014-04-25T00:00:00.000000000' '2014-04-24T00:00:00.000000000'\n",
            " '2014-04-23T00:00:00.000000000' '2014-04-22T00:00:00.000000000'\n",
            " '2014-04-21T00:00:00.000000000' '2014-04-20T00:00:00.000000000'\n",
            " '2014-04-19T00:00:00.000000000' '2014-04-18T00:00:00.000000000'\n",
            " '2014-04-17T00:00:00.000000000' '2014-04-16T00:00:00.000000000'\n",
            " '2014-04-15T00:00:00.000000000' '2014-04-14T00:00:00.000000000'\n",
            " '2014-04-13T00:00:00.000000000' '2014-04-12T00:00:00.000000000'\n",
            " '2014-04-11T00:00:00.000000000' '2014-04-10T00:00:00.000000000'\n",
            " '2014-04-09T00:00:00.000000000' '2014-04-08T00:00:00.000000000'\n",
            " '2014-04-07T00:00:00.000000000' '2014-04-06T00:00:00.000000000'\n",
            " '2014-04-05T00:00:00.000000000' '2014-04-04T00:00:00.000000000'\n",
            " '2014-04-03T00:00:00.000000000' '2014-04-02T00:00:00.000000000'\n",
            " '2014-04-01T00:00:00.000000000' '2014-03-31T00:00:00.000000000'\n",
            " '2014-03-30T00:00:00.000000000' '2014-03-29T00:00:00.000000000'\n",
            " '2014-03-28T00:00:00.000000000' '2014-03-27T00:00:00.000000000'\n",
            " '2014-03-26T00:00:00.000000000' '2014-03-25T00:00:00.000000000'\n",
            " '2014-03-24T00:00:00.000000000' '2014-03-23T00:00:00.000000000'\n",
            " '2014-03-22T00:00:00.000000000' '2014-03-21T00:00:00.000000000'\n",
            " '2014-03-20T00:00:00.000000000' '2014-03-19T00:00:00.000000000'\n",
            " '2014-03-18T00:00:00.000000000' '2014-03-17T00:00:00.000000000'\n",
            " '2014-03-16T00:00:00.000000000' '2014-03-15T00:00:00.000000000'\n",
            " '2014-03-14T00:00:00.000000000' '2014-03-13T00:00:00.000000000'\n",
            " '2014-03-12T00:00:00.000000000' '2014-03-11T00:00:00.000000000'\n",
            " '2014-03-10T00:00:00.000000000' '2014-03-09T00:00:00.000000000'\n",
            " '2014-03-08T00:00:00.000000000' '2014-03-07T00:00:00.000000000'\n",
            " '2014-03-06T00:00:00.000000000' '2014-03-05T00:00:00.000000000'\n",
            " '2014-03-04T00:00:00.000000000' '2014-03-03T00:00:00.000000000'\n",
            " '2014-03-02T00:00:00.000000000' '2014-03-01T00:00:00.000000000'\n",
            " '2014-02-28T00:00:00.000000000' '2014-02-27T00:00:00.000000000'\n",
            " '2014-02-26T00:00:00.000000000' '2014-02-25T00:00:00.000000000'\n",
            " '2014-02-24T00:00:00.000000000' '2014-02-23T00:00:00.000000000'\n",
            " '2014-02-22T00:00:00.000000000' '2014-02-21T00:00:00.000000000'\n",
            " '2014-02-20T00:00:00.000000000' '2014-02-19T00:00:00.000000000'\n",
            " '2014-02-18T00:00:00.000000000' '2014-02-17T00:00:00.000000000'\n",
            " '2014-02-16T00:00:00.000000000' '2014-02-15T00:00:00.000000000'\n",
            " '2014-02-14T00:00:00.000000000' '2014-02-13T00:00:00.000000000'\n",
            " '2014-02-12T00:00:00.000000000' '2014-02-11T00:00:00.000000000'\n",
            " '2014-02-10T00:00:00.000000000' '2014-02-09T00:00:00.000000000'\n",
            " '2014-02-08T00:00:00.000000000' '2014-02-07T00:00:00.000000000'\n",
            " '2014-02-06T00:00:00.000000000' '2014-02-05T00:00:00.000000000'\n",
            " '2014-02-04T00:00:00.000000000' '2014-02-03T00:00:00.000000000'\n",
            " '2014-02-02T00:00:00.000000000' '2014-02-01T00:00:00.000000000'\n",
            " '2014-01-31T00:00:00.000000000' '2014-01-30T00:00:00.000000000'\n",
            " '2014-01-29T00:00:00.000000000' '2014-01-28T00:00:00.000000000'\n",
            " '2014-01-27T00:00:00.000000000' '2014-01-26T00:00:00.000000000'\n",
            " '2014-01-25T00:00:00.000000000' '2014-01-24T00:00:00.000000000'\n",
            " '2014-01-23T00:00:00.000000000' '2014-01-22T00:00:00.000000000'\n",
            " '2014-01-21T00:00:00.000000000' '2014-01-20T00:00:00.000000000'\n",
            " '2014-01-19T00:00:00.000000000' '2014-01-18T00:00:00.000000000'\n",
            " '2014-01-17T00:00:00.000000000' '2014-01-16T00:00:00.000000000'\n",
            " '2014-01-15T00:00:00.000000000' '2014-01-14T00:00:00.000000000'\n",
            " '2014-01-13T00:00:00.000000000' '2014-01-12T00:00:00.000000000'\n",
            " '2014-01-11T00:00:00.000000000' '2014-01-10T00:00:00.000000000'\n",
            " '2014-01-09T00:00:00.000000000' '2014-01-08T00:00:00.000000000'\n",
            " '2014-01-07T00:00:00.000000000' '2014-01-06T00:00:00.000000000'\n",
            " '2014-01-05T00:00:00.000000000' '2014-01-04T00:00:00.000000000'\n",
            " '2014-01-03T00:00:00.000000000' '2014-01-02T00:00:00.000000000'\n",
            " '2014-01-01T00:00:00.000000000' '2013-12-31T00:00:00.000000000'\n",
            " '2013-12-30T00:00:00.000000000' '2013-12-29T00:00:00.000000000'\n",
            " '2013-12-28T00:00:00.000000000' '2013-12-27T00:00:00.000000000'\n",
            " '2013-12-26T00:00:00.000000000' '2013-12-25T00:00:00.000000000'\n",
            " '2013-12-24T00:00:00.000000000' '2013-12-23T00:00:00.000000000'\n",
            " '2013-12-22T00:00:00.000000000' '2013-12-21T00:00:00.000000000'\n",
            " '2013-12-20T00:00:00.000000000' '2013-12-19T00:00:00.000000000'\n",
            " '2013-12-18T00:00:00.000000000' '2013-12-17T00:00:00.000000000'\n",
            " '2013-12-16T00:00:00.000000000' '2013-12-15T00:00:00.000000000'\n",
            " '2013-12-14T00:00:00.000000000' '2013-12-13T00:00:00.000000000'\n",
            " '2013-12-12T00:00:00.000000000' '2013-12-11T00:00:00.000000000'\n",
            " '2013-12-10T00:00:00.000000000' '2013-12-09T00:00:00.000000000'\n",
            " '2013-12-08T00:00:00.000000000' '2013-12-07T00:00:00.000000000'\n",
            " '2013-12-06T00:00:00.000000000' '2013-12-05T00:00:00.000000000'\n",
            " '2013-12-04T00:00:00.000000000' '2013-12-03T00:00:00.000000000'\n",
            " '2013-12-02T00:00:00.000000000' '2013-12-01T00:00:00.000000000'\n",
            " '2013-11-30T00:00:00.000000000' '2013-11-29T00:00:00.000000000'\n",
            " '2013-11-28T00:00:00.000000000' '2013-11-27T00:00:00.000000000'\n",
            " '2013-11-26T00:00:00.000000000' '2013-11-25T00:00:00.000000000'\n",
            " '2013-11-24T00:00:00.000000000' '2013-11-23T00:00:00.000000000'\n",
            " '2013-11-22T00:00:00.000000000' '2013-11-21T00:00:00.000000000'\n",
            " '2013-11-20T00:00:00.000000000' '2013-11-19T00:00:00.000000000'\n",
            " '2013-11-18T00:00:00.000000000' '2013-11-17T00:00:00.000000000'\n",
            " '2013-11-16T00:00:00.000000000' '2013-11-15T00:00:00.000000000'\n",
            " '2013-11-14T00:00:00.000000000' '2013-11-13T00:00:00.000000000'\n",
            " '2013-11-12T00:00:00.000000000' '2013-11-11T00:00:00.000000000'\n",
            " '2013-11-10T00:00:00.000000000' '2013-11-09T00:00:00.000000000'\n",
            " '2013-11-08T00:00:00.000000000' '2013-11-07T00:00:00.000000000'\n",
            " '2013-11-06T00:00:00.000000000' '2013-11-05T00:00:00.000000000'\n",
            " '2013-11-04T00:00:00.000000000' '2013-11-03T00:00:00.000000000'\n",
            " '2013-11-02T00:00:00.000000000' '2013-11-01T00:00:00.000000000'\n",
            " '2013-10-31T00:00:00.000000000' '2013-10-30T00:00:00.000000000'\n",
            " '2013-10-29T00:00:00.000000000' '2013-10-28T00:00:00.000000000'\n",
            " '2013-10-27T00:00:00.000000000' '2013-10-26T00:00:00.000000000'\n",
            " '2013-10-25T00:00:00.000000000' '2013-10-24T00:00:00.000000000'\n",
            " '2013-10-23T00:00:00.000000000' '2013-10-22T00:00:00.000000000'\n",
            " '2013-10-21T00:00:00.000000000' '2013-10-20T00:00:00.000000000'\n",
            " '2013-10-19T00:00:00.000000000' '2013-10-18T00:00:00.000000000'\n",
            " '2013-10-17T00:00:00.000000000' '2013-10-16T00:00:00.000000000'\n",
            " '2013-10-15T00:00:00.000000000' '2013-10-14T00:00:00.000000000'\n",
            " '2013-10-13T00:00:00.000000000' '2013-10-12T00:00:00.000000000'\n",
            " '2013-10-11T00:00:00.000000000' '2013-10-10T00:00:00.000000000'\n",
            " '2013-10-09T00:00:00.000000000' '2013-10-08T00:00:00.000000000'\n",
            " '2013-10-07T00:00:00.000000000' '2013-10-06T00:00:00.000000000'\n",
            " '2013-10-05T00:00:00.000000000' '2013-10-04T00:00:00.000000000'\n",
            " '2013-10-03T00:00:00.000000000' '2013-10-02T00:00:00.000000000'\n",
            " '2013-10-01T00:00:00.000000000' '2013-09-30T00:00:00.000000000'\n",
            " '2013-09-29T00:00:00.000000000' '2013-09-28T00:00:00.000000000'\n",
            " '2013-09-27T00:00:00.000000000' '2013-09-26T00:00:00.000000000'\n",
            " '2013-09-25T00:00:00.000000000' '2013-09-24T00:00:00.000000000'\n",
            " '2013-09-23T00:00:00.000000000' '2013-09-22T00:00:00.000000000'\n",
            " '2013-09-21T00:00:00.000000000' '2013-09-20T00:00:00.000000000'\n",
            " '2013-09-19T00:00:00.000000000' '2013-09-18T00:00:00.000000000'\n",
            " '2013-09-17T00:00:00.000000000' '2013-09-16T00:00:00.000000000'\n",
            " '2013-09-15T00:00:00.000000000' '2013-09-14T00:00:00.000000000'\n",
            " '2013-09-13T00:00:00.000000000' '2013-09-12T00:00:00.000000000'\n",
            " '2013-09-11T00:00:00.000000000' '2013-09-10T00:00:00.000000000'\n",
            " '2013-09-09T00:00:00.000000000' '2013-09-08T00:00:00.000000000'\n",
            " '2013-09-07T00:00:00.000000000' '2013-09-06T00:00:00.000000000'\n",
            " '2013-09-05T00:00:00.000000000' '2013-09-04T00:00:00.000000000'\n",
            " '2013-09-03T00:00:00.000000000' '2013-09-02T00:00:00.000000000'\n",
            " '2013-09-01T00:00:00.000000000' '2013-08-31T00:00:00.000000000'\n",
            " '2013-08-30T00:00:00.000000000' '2013-08-29T00:00:00.000000000'\n",
            " '2013-08-28T00:00:00.000000000' '2013-08-27T00:00:00.000000000'\n",
            " '2013-08-26T00:00:00.000000000' '2013-08-25T00:00:00.000000000'\n",
            " '2013-08-24T00:00:00.000000000' '2013-08-23T00:00:00.000000000'\n",
            " '2013-08-22T00:00:00.000000000' '2013-08-21T00:00:00.000000000'\n",
            " '2013-08-20T00:00:00.000000000' '2013-08-19T00:00:00.000000000'\n",
            " '2013-08-18T00:00:00.000000000' '2013-08-17T00:00:00.000000000'\n",
            " '2013-08-16T00:00:00.000000000' '2013-08-15T00:00:00.000000000'\n",
            " '2013-08-14T00:00:00.000000000' '2013-08-13T00:00:00.000000000'\n",
            " '2013-08-12T00:00:00.000000000' '2013-08-11T00:00:00.000000000'\n",
            " '2013-08-10T00:00:00.000000000' '2013-08-09T00:00:00.000000000'\n",
            " '2013-08-08T00:00:00.000000000' '2013-08-07T00:00:00.000000000'\n",
            " '2013-08-06T00:00:00.000000000' '2013-08-05T00:00:00.000000000'\n",
            " '2013-08-04T00:00:00.000000000' '2013-08-03T00:00:00.000000000'\n",
            " '2013-08-02T00:00:00.000000000' '2013-08-01T00:00:00.000000000'\n",
            " '2013-07-31T00:00:00.000000000' '2013-07-30T00:00:00.000000000'\n",
            " '2013-07-29T00:00:00.000000000' '2013-07-28T00:00:00.000000000'\n",
            " '2013-07-27T00:00:00.000000000' '2013-07-26T00:00:00.000000000'\n",
            " '2013-07-25T00:00:00.000000000' '2013-07-24T00:00:00.000000000'\n",
            " '2013-07-23T00:00:00.000000000' '2013-07-22T00:00:00.000000000'\n",
            " '2013-07-21T00:00:00.000000000' '2013-07-20T00:00:00.000000000'\n",
            " '2013-07-19T00:00:00.000000000' '2013-07-18T00:00:00.000000000'\n",
            " '2013-07-17T00:00:00.000000000' '2013-07-16T00:00:00.000000000'\n",
            " '2013-07-15T00:00:00.000000000' '2013-07-14T00:00:00.000000000'\n",
            " '2013-07-13T00:00:00.000000000' '2013-07-12T00:00:00.000000000'\n",
            " '2013-07-11T00:00:00.000000000' '2013-07-10T00:00:00.000000000'\n",
            " '2013-07-09T00:00:00.000000000' '2013-07-08T00:00:00.000000000'\n",
            " '2013-07-07T00:00:00.000000000' '2013-07-06T00:00:00.000000000'\n",
            " '2013-07-05T00:00:00.000000000' '2013-07-04T00:00:00.000000000'\n",
            " '2013-07-03T00:00:00.000000000' '2013-07-02T00:00:00.000000000'\n",
            " '2013-07-01T00:00:00.000000000' '2013-06-30T00:00:00.000000000'\n",
            " '2013-06-29T00:00:00.000000000' '2013-06-28T00:00:00.000000000'\n",
            " '2013-06-27T00:00:00.000000000' '2013-06-26T00:00:00.000000000'\n",
            " '2013-06-25T00:00:00.000000000' '2013-06-24T00:00:00.000000000'\n",
            " '2013-06-23T00:00:00.000000000' '2013-06-22T00:00:00.000000000'\n",
            " '2013-06-21T00:00:00.000000000' '2013-06-20T00:00:00.000000000'\n",
            " '2013-06-19T00:00:00.000000000' '2013-06-18T00:00:00.000000000'\n",
            " '2013-06-17T00:00:00.000000000' '2013-06-16T00:00:00.000000000'\n",
            " '2013-06-15T00:00:00.000000000' '2013-06-14T00:00:00.000000000'\n",
            " '2013-06-13T00:00:00.000000000' '2013-06-12T00:00:00.000000000'\n",
            " '2013-06-11T00:00:00.000000000' '2013-06-10T00:00:00.000000000'\n",
            " '2013-06-09T00:00:00.000000000' '2013-06-08T00:00:00.000000000'\n",
            " '2013-06-07T00:00:00.000000000' '2013-06-06T00:00:00.000000000'\n",
            " '2013-06-05T00:00:00.000000000' '2013-06-04T00:00:00.000000000'\n",
            " '2013-06-03T00:00:00.000000000' '2013-06-02T00:00:00.000000000'\n",
            " '2013-06-01T00:00:00.000000000' '2013-05-31T00:00:00.000000000'\n",
            " '2013-05-30T00:00:00.000000000' '2013-05-29T00:00:00.000000000'\n",
            " '2013-05-28T00:00:00.000000000' '2013-05-27T00:00:00.000000000'\n",
            " '2013-05-26T00:00:00.000000000' '2013-05-25T00:00:00.000000000'\n",
            " '2013-05-24T00:00:00.000000000' '2013-05-23T00:00:00.000000000'\n",
            " '2013-05-22T00:00:00.000000000' '2013-05-21T00:00:00.000000000'\n",
            " '2013-05-20T00:00:00.000000000' '2013-05-19T00:00:00.000000000'\n",
            " '2013-05-18T00:00:00.000000000' '2013-05-17T00:00:00.000000000'\n",
            " '2013-05-16T00:00:00.000000000' '2013-05-15T00:00:00.000000000'\n",
            " '2013-05-14T00:00:00.000000000' '2013-05-13T00:00:00.000000000'\n",
            " '2013-05-12T00:00:00.000000000' '2013-05-11T00:00:00.000000000'\n",
            " '2013-05-10T00:00:00.000000000' '2013-05-09T00:00:00.000000000'\n",
            " '2013-05-08T00:00:00.000000000' '2013-05-07T00:00:00.000000000'\n",
            " '2013-05-06T00:00:00.000000000' '2013-05-05T00:00:00.000000000'\n",
            " '2013-05-04T00:00:00.000000000' '2013-05-03T00:00:00.000000000'\n",
            " '2013-05-02T00:00:00.000000000' '2013-05-01T00:00:00.000000000'\n",
            " '2013-04-30T00:00:00.000000000' '2013-04-29T00:00:00.000000000'\n",
            " '2013-04-28T00:00:00.000000000' '2013-04-27T00:00:00.000000000'\n",
            " '2013-04-26T00:00:00.000000000' '2013-04-25T00:00:00.000000000'\n",
            " '2013-04-24T00:00:00.000000000' '2013-04-23T00:00:00.000000000'\n",
            " '2013-04-22T00:00:00.000000000' '2013-04-21T00:00:00.000000000'\n",
            " '2013-04-20T00:00:00.000000000' '2013-04-19T00:00:00.000000000'\n",
            " '2013-04-18T00:00:00.000000000' '2013-04-17T00:00:00.000000000'\n",
            " '2013-04-16T00:00:00.000000000' '2013-04-15T00:00:00.000000000'\n",
            " '2013-04-14T00:00:00.000000000' '2013-04-13T00:00:00.000000000'\n",
            " '2013-04-12T00:00:00.000000000' '2013-04-11T00:00:00.000000000'\n",
            " '2013-04-10T00:00:00.000000000' '2013-04-09T00:00:00.000000000'\n",
            " '2013-04-08T00:00:00.000000000' '2013-04-07T00:00:00.000000000'\n",
            " '2013-04-06T00:00:00.000000000' '2013-04-05T00:00:00.000000000'\n",
            " '2013-04-04T00:00:00.000000000' '2013-04-03T00:00:00.000000000'\n",
            " '2013-04-02T00:00:00.000000000' '2013-04-01T00:00:00.000000000'\n",
            " '2013-03-31T00:00:00.000000000' '2013-03-30T00:00:00.000000000'\n",
            " '2013-03-29T00:00:00.000000000' '2013-03-28T00:00:00.000000000'\n",
            " '2013-03-27T00:00:00.000000000' '2013-03-26T00:00:00.000000000'\n",
            " '2013-03-25T00:00:00.000000000' '2013-03-24T00:00:00.000000000'\n",
            " '2013-03-23T00:00:00.000000000' '2013-03-22T00:00:00.000000000'\n",
            " '2013-03-21T00:00:00.000000000' '2013-03-20T00:00:00.000000000'\n",
            " '2013-03-19T00:00:00.000000000' '2013-03-18T00:00:00.000000000'\n",
            " '2013-03-17T00:00:00.000000000' '2013-03-16T00:00:00.000000000'\n",
            " '2013-03-15T00:00:00.000000000' '2013-03-14T00:00:00.000000000'\n",
            " '2013-03-13T00:00:00.000000000' '2013-03-12T00:00:00.000000000'\n",
            " '2013-03-11T00:00:00.000000000' '2013-03-10T00:00:00.000000000'\n",
            " '2013-03-09T00:00:00.000000000' '2013-03-08T00:00:00.000000000'\n",
            " '2013-03-07T00:00:00.000000000' '2013-03-06T00:00:00.000000000'\n",
            " '2013-03-05T00:00:00.000000000' '2013-03-04T00:00:00.000000000'\n",
            " '2013-03-03T00:00:00.000000000' '2013-03-02T00:00:00.000000000'\n",
            " '2013-03-01T00:00:00.000000000' '2013-02-28T00:00:00.000000000'\n",
            " '2013-02-27T00:00:00.000000000' '2013-02-26T00:00:00.000000000'\n",
            " '2013-02-25T00:00:00.000000000' '2013-02-24T00:00:00.000000000'\n",
            " '2013-02-23T00:00:00.000000000' '2013-02-22T00:00:00.000000000'\n",
            " '2013-02-21T00:00:00.000000000' '2013-02-20T00:00:00.000000000'\n",
            " '2013-02-19T00:00:00.000000000' '2013-02-18T00:00:00.000000000'\n",
            " '2013-02-17T00:00:00.000000000' '2013-02-16T00:00:00.000000000'\n",
            " '2013-02-15T00:00:00.000000000' '2013-02-14T00:00:00.000000000'\n",
            " '2013-02-13T00:00:00.000000000' '2013-02-12T00:00:00.000000000'\n",
            " '2013-02-11T00:00:00.000000000' '2013-02-10T00:00:00.000000000'\n",
            " '2013-02-09T00:00:00.000000000' '2013-02-08T00:00:00.000000000'\n",
            " '2013-02-07T00:00:00.000000000' '2013-02-06T00:00:00.000000000'\n",
            " '2013-02-05T00:00:00.000000000' '2013-02-04T00:00:00.000000000'\n",
            " '2013-02-03T00:00:00.000000000' '2013-02-02T00:00:00.000000000'\n",
            " '2013-02-01T00:00:00.000000000' '2013-01-31T00:00:00.000000000'\n",
            " '2013-01-30T00:00:00.000000000' '2013-01-29T00:00:00.000000000'\n",
            " '2013-01-28T00:00:00.000000000' '2013-01-27T00:00:00.000000000'\n",
            " '2013-01-26T00:00:00.000000000' '2013-01-25T00:00:00.000000000'\n",
            " '2013-01-24T00:00:00.000000000' '2013-01-23T00:00:00.000000000'\n",
            " '2013-01-22T00:00:00.000000000' '2013-01-21T00:00:00.000000000'\n",
            " '2013-01-20T00:00:00.000000000' '2013-01-19T00:00:00.000000000'\n",
            " '2013-01-18T00:00:00.000000000' '2013-01-17T00:00:00.000000000'\n",
            " '2013-01-16T00:00:00.000000000' '2013-01-15T00:00:00.000000000'\n",
            " '2013-01-14T00:00:00.000000000' '2013-01-13T00:00:00.000000000'\n",
            " '2013-01-12T00:00:00.000000000' '2013-01-11T00:00:00.000000000'\n",
            " '2013-01-10T00:00:00.000000000' '2013-01-09T00:00:00.000000000'\n",
            " '2013-01-08T00:00:00.000000000' '2013-01-07T00:00:00.000000000'\n",
            " '2013-01-06T00:00:00.000000000' '2013-01-05T00:00:00.000000000'\n",
            " '2013-01-04T00:00:00.000000000' '2013-01-03T00:00:00.000000000'\n",
            " '2013-01-02T00:00:00.000000000' '2013-01-01T00:00:00.000000000']\n",
            "Sales [ 5263  6064  8314 ...   660 17815 23303]\n",
            "Customers [ 555  625  821 ... 3900   36 4065]\n",
            "Open [1 0]\n",
            "Promo [1 0]\n",
            "StateHoliday [0 1 2 3]\n",
            "SchoolHoliday [1 0]\n",
            "StoreType [2 0 3 1]\n",
            "Assortment [0 2 1]\n",
            "CompetitionDistance [ 1270   570 14130   620 29910   310 24000  7520  2030  3160   960  1070\n",
            "  1300  4110  3270    50 13840  3240  2340   550  1040  4060  4590   430\n",
            "  2300    60  1200  2170    40  9800  2910  1320  2240  7660   540  4230\n",
            "  1090   260   180  1180   290  4880  9710   270  1060 18010  6260 10570\n",
            "   450 30360  7170   720  6620   420  7340  2840  5540   350  2050  3700\n",
            " 22560   410   250  1130  4840 17500  2200  1650   330 22440 19960  3510\n",
            "  3320  7910  2370 22390  2710 11810  1870   480   560 10690  2380  2410\n",
            "   240 16690 14620  1890  8780  8980 15140 17930  2440   150  5210   390\n",
            "  6190  1390  1930  2190  3300 46590  7890  1630 20930  4510  5740   680\n",
            "  3450  3580  2100  2290  3570 58260 16760  1410   760  3370  1350  2000\n",
            "  2460   900   920  5190  1730 25360  1700  1540  2930 16570   280  8050\n",
            "  8540  2090  2610 31830  4360  1780 16240 16420  3050  2020  2950 11840\n",
            "  8530 17110  2970  5340  1480  1160  3720   100   140 12540   980  2640\n",
            "   110 13090  4130  3770  1250  1710  5800 12610  9670  3560  1860 19360\n",
            "   850  5760  1470  1100  2770   520 16970   220  3850  4210  6360 20260\n",
            "  5140   490  5630   380  6870   300 11680   970 15050  4030  8650   190\n",
            "  3150   640  1640  1000 13530  2920  7930 10180 10800 17410  6680  3840\n",
            " 13570  4370  5710  1420   320   610  1110   780  6880   710  1310  4660\n",
            "    70   340  3520 22330  4630    80 27190   210 15340  1140  4580   360\n",
            "  4520  1450 16180  8480  3640  2960  7840  9260  2320 18640  6970  1220\n",
            "  2260  1290  1460  2740   800  6540  4150  2325  9580 19840 38630   120\n",
            " 15430  1950  2470  5100 18660  8740 11300 14160 38710  9000  3140 32330\n",
            "  8140  8400 13140 10070  3130   370   670  1840  4040    90 10600  1590\n",
            "  2280  8080 15770 18650  8090  9360 16490  1490  8880  5290  1500  9720\n",
            "  8970  2060  2890  2040  4490 13620  6470  5870  8250  1970 11120  1150\n",
            " 15710   160  2140  6630  1800 26130   130  6690  1600   460  2120  4820\n",
            " 10850  3620 23130  5360  9200  5830  4970  1080  8240  5890  1560   840\n",
            "  8460  4460  6210  6910  4650  1620  3530  2880 16350 12870   810 30030\n",
            " 13020   910  3900  2530   500 11400  1510  3970  5780  1850 75860 26450\n",
            "  3390 34050  1790 44320  4160 10890  3110 20390  5260  5300  5030 14810\n",
            "  8300   770  1940  7470  2550  2310 14300  2180 14960   660  4680  1740\n",
            "  1260  5470  2780  1610   990 13080   820  9070  1280  4740  8260   590\n",
            "   400 11260    20 22490  3330  2510  6900 18610  7160 40860 20620 12920\n",
            " 18160  5950  4700   600   650  7280  5020   580  8990  3760  2330  4260\n",
            "  3040  3000  3910  1910  1210   700  1010  4270  1340  2110  9230  1190\n",
            "  4400  2270 12700 20970   170  7250  1360   440 15720  3340  2540 33060\n",
            " 17340  8220 10950 10310 18370  2070  2490   730  8940  9910  5440    30\n",
            "  4080  6920  1170 10740   510  1690  2870  3350 11640 27530  9790 10170\n",
            "  7780  8040   530   230  7420  2130 14570   200  6930  7860  1680  2700\n",
            " 17080 15170  3250  4140  2850 20050 18760 15040  3030  3780   830  8550\n",
            "  7830  2900 11470  4870 12070  3200  8190 15320  3590  5650  5900 17540\n",
            " 40540 13990 15270 35280   860  1920  5980  6400 11900  4380  6710  1370\n",
            " 17650  4330 45740  3410  8670 13130 19780  2390 32240 26490 25430  9820\n",
            "  2630 20640 16990   630  5390 15490  3210  1530  9770 17280  5090  7180\n",
            "  9560 48330  1760 24770  3870 18620 12770  9640  2590 24530 16210 17570\n",
            "  7980  3290  6320  5070  3470  2720 14600  6890 27650  8860  5000  1120\n",
            "   940 14040  4770  3440  3020  6270 21770   740 21370  1020  9680 21810\n",
            " 10620  3860 21790 29190  4570  7550 12430 19700  4450 18670 19370 18540\n",
            "  3920  3170  7290  1980 12480  3100  7240 18710  2620  6420   470  5150\n",
            " 15700  5460 22350  2810  2820  6860 18020  1670  2220  1430   870  6300\n",
            " 19830  9430 23620  9630  4180  3890  4420 21930  2480  3460  6560  5840\n",
            "  2230 19640  6480  4610  6330  1520  3740  1990 36410  7680 13750 27150\n",
            " 17290 26990 29070  3750 13170  5080 13190  5350  3230  3380  3430  8110\n",
            "  6250 12020  5010 18050  5380 16680 11540  2210  4300  5220  9990 10450\n",
            "   690  1830  5330  1400  3490  1900  1880]\n",
            "CompetitionOpenSinceMonth [ 7  6  5  4  3  2  1 12 11 10  9  8]\n",
            "CompetitionOpenSinceYear [2008 2007 2006 2009 2015 2013 2014 2000 2011    0 2010 2005 1999 2003\n",
            " 2012 2004 2002 1961 1995 2001 1990 1994 1900 1998]\n",
            "Promo2 [0 1]\n",
            "Promo2SinceWeek [ 0 13 14  1 45 40 26 22  5  6 10 31 37  9 39 27 18 35 23 48 36 50 44 49\n",
            " 28]\n",
            "Promo2SinceYear [   0 2010 2011 2012 2009 2014 2015 2013]\n",
            "PromoInterval [0 'Jan,Apr,Jul,Oct' 'Feb,May,Aug,Nov' 'Mar,Jun,Sept,Dec']\n"
          ]
        }
      ]
    },
    {
      "cell_type": "markdown",
      "source": [
        "## ***4. Data Vizualization, Storytelling & Experimenting with charts : Understand the relationships between variables***"
      ],
      "metadata": {
        "id": "GF8Ens_Soomf"
      }
    },
    {
      "cell_type": "markdown",
      "source": [
        "# **Sales**"
      ],
      "metadata": {
        "id": "TzmbpuL4OneU"
      }
    },
    {
      "cell_type": "markdown",
      "source": [
        "#### Chart - 1"
      ],
      "metadata": {
        "id": "0wOQAZs5pc--"
      }
    },
    {
      "cell_type": "code",
      "source": [
        "# Chart - 1 visualization code\n",
        "plt.figure(figsize=(15,6))\n",
        "sns.pointplot(x= 'CompetitionOpenSinceYear', y= 'Sales', data=ds_final)\n",
        "plt.title('Plot between Sales and Competition Open Since year')"
      ],
      "metadata": {
        "id": "7v_ESjsspbW7",
        "colab": {
          "base_uri": "https://localhost:8080/",
          "height": 581
        },
        "outputId": "093f88ad-0b97-40bd-c71c-6e0422698feb"
      },
      "execution_count": 29,
      "outputs": [
        {
          "output_type": "execute_result",
          "data": {
            "text/plain": [
              "Text(0.5, 1.0, 'Plot between Sales and Competition Open Since year')"
            ]
          },
          "metadata": {},
          "execution_count": 29
        },
        {
          "output_type": "display_data",
          "data": {
            "text/plain": [
              "<Figure size 1500x600 with 1 Axes>"
            ],
            "image/png": "[encoded data removed]"
          },
          "metadata": {}
        }
      ]
    },
    {
      "cell_type": "markdown",
      "source": [
        "From the Plot we can tell that Sales are high during the year 1900, as there are very few store were operated of Rossmann so there is less competition and sales are high. But as year pass on number of stores increased that means competition also increased and this leads to decline in the sales."
      ],
      "metadata": {
        "id": "HrgPxdpOPAwG"
      }
    },
    {
      "cell_type": "markdown",
      "source": [
        "#### Chart - 2"
      ],
      "metadata": {
        "id": "KSlN3yHqYklG"
      }
    },
    {
      "cell_type": "code",
      "source": [
        "# Chart - 2 visualization code\n",
        "plt.figure(figsize=(15,6))\n",
        "sns.pointplot(x= 'Promo2SinceYear', y= 'Sales', data=ds_final)\n",
        "plt.title('Plot between Sales and Promo2 Since year')"
      ],
      "metadata": {
        "id": "R4YgtaqtYklH",
        "colab": {
          "base_uri": "https://localhost:8080/",
          "height": 581
        },
        "outputId": "078d33ed-ddad-4e01-9f92-c9ad60048d01"
      },
      "execution_count": 30,
      "outputs": [
        {
          "output_type": "execute_result",
          "data": {
            "text/plain": [
              "Text(0.5, 1.0, 'Plot between Sales and Promo2 Since year')"
            ]
          },
          "metadata": {},
          "execution_count": 30
        },
        {
          "output_type": "display_data",
          "data": {
            "text/plain": [
              "<Figure size 1500x600 with 1 Axes>"
            ],
            "image/png": "[encoded data removed]"
          },
          "metadata": {}
        }
      ]
    },
    {
      "cell_type": "markdown",
      "source": [
        "Plot between Sales and promo2 since year shows that effect of sales of stores which continue their promotion. this data is available from yaer 2009 to 2015. Promo2 has very good effect on sales but in year 2013 sales be minimum and also in year 2012 and 2015 sales are very low."
      ],
      "metadata": {
        "id": "rWYQw4kaPWFv"
      }
    },
    {
      "cell_type": "markdown",
      "source": [
        "#### Chart - 3"
      ],
      "metadata": {
        "id": "EM7whBJCYoAo"
      }
    },
    {
      "cell_type": "code",
      "source": [
        "\n",
        "plt.figure(figsize=(15,6))\n",
        "sns.pointplot(x= 'CompetitionOpenSinceMonth', y= 'Sales', data=ds_final)\n",
        "plt.title('Plot between Sales and Competition Open Since Month')"
      ],
      "metadata": {
        "id": "t6GMdE67YoAp",
        "colab": {
          "base_uri": "https://localhost:8080/",
          "height": 581
        },
        "outputId": "974d5a54-998f-48aa-c286-0732ed27eeed"
      },
      "execution_count": 31,
      "outputs": [
        {
          "output_type": "execute_result",
          "data": {
            "text/plain": [
              "Text(0.5, 1.0, 'Plot between Sales and Competition Open Since Month')"
            ]
          },
          "metadata": {},
          "execution_count": 31
        },
        {
          "output_type": "display_data",
          "data": {
            "text/plain": [
              "<Figure size 1500x600 with 1 Axes>"
            ],
            "image/png": "[encoded data removed]"
          },
          "metadata": {}
        }
      ]
    },
    {
      "cell_type": "markdown",
      "source": [
        "Plot between Competition open since month and Sales explains the sales data in each month of a year. This data shows that sales after month november increases drastically. This is very clear that in December monthdue to Christmas Eve and New year celebration everone is buying. So sales of Rossmann store is very high in December."
      ],
      "metadata": {
        "id": "YrVyBiAMPmHg"
      }
    },
    {
      "cell_type": "markdown",
      "source": [
        "#### Chart - 4"
      ],
      "metadata": {
        "id": "4Of9eVA-YrdM"
      }
    },
    {
      "cell_type": "code",
      "source": [
        "# Chart - 4 visualization code\n",
        "plt.figure(figsize=(15,6))\n",
        "sns.pointplot(x= 'DayOfWeek', y= 'Sales', data=ds_final)\n",
        "plt.title('Plot between Sales and Day of Week')"
      ],
      "metadata": {
        "id": "irlUoxc8YrdO",
        "colab": {
          "base_uri": "https://localhost:8080/",
          "height": 581
        },
        "outputId": "ef90a5be-c8c5-4f86-ea9a-5e7611eb0cda"
      },
      "execution_count": 32,
      "outputs": [
        {
          "output_type": "execute_result",
          "data": {
            "text/plain": [
              "Text(0.5, 1.0, 'Plot between Sales and Day of Week')"
            ]
          },
          "metadata": {},
          "execution_count": 32
        },
        {
          "output_type": "display_data",
          "data": {
            "text/plain": [
              "<Figure size 1500x600 with 1 Axes>"
            ],
            "image/png": "[encoded data removed]"
          },
          "metadata": {}
        }
      ]
    },
    {
      "cell_type": "markdown",
      "source": [
        "Plot between Sales and Days of week shows that maximum sales is on Monday and sales gradually decreasing to 6th day of week i.e. on Saturday. It also shows that sales on Sunday is almost near to zero as on sunday maximum stores are closed."
      ],
      "metadata": {
        "id": "qA2fceFlPvhL"
      }
    },
    {
      "cell_type": "markdown",
      "source": [
        "# **BoxPlot of sales between Assortment and store type**"
      ],
      "metadata": {
        "id": "ut-CL63hSaGO"
      }
    },
    {
      "cell_type": "markdown",
      "source": [
        "#### Chart - 5"
      ],
      "metadata": {
        "id": "bamQiAODYuh1"
      }
    },
    {
      "cell_type": "code",
      "source": [
        "# Chart - 5 visualization code\n",
        "plt.figure(figsize=(12, 8))\n",
        "plot_storetype_sales = sns.boxplot(x=\"StoreType\", y=\"Sales\", data=ds_final)\n",
        "plt.title('Boxplot For Sales Values')"
      ],
      "metadata": {
        "id": "TIJwrbroYuh3",
        "colab": {
          "base_uri": "https://localhost:8080/",
          "height": 735
        },
        "outputId": "fec066f5-5572-4f60-f726-fa77dbf06455"
      },
      "execution_count": 33,
      "outputs": [
        {
          "output_type": "execute_result",
          "data": {
            "text/plain": [
              "Text(0.5, 1.0, 'Boxplot For Sales Values')"
            ]
          },
          "metadata": {},
          "execution_count": 33
        },
        {
          "output_type": "display_data",
          "data": {
            "text/plain": [
              "<Figure size 1200x800 with 1 Axes>"
            ],
            "image/png": "[encoded data removed]"
          },
          "metadata": {}
        }
      ]
    },
    {
      "cell_type": "markdown",
      "source": [
        "#### Chart - 6"
      ],
      "metadata": {
        "id": "OH-pJp9IphqM"
      }
    },
    {
      "cell_type": "code",
      "source": [
        "# Chart - 6 visualization code\n",
        "plt.figure(figsize=(12, 8))\n",
        "plot_storetype_sales = sns.boxplot(x=\"Assortment\", y=\"Sales\", data=ds_final)\n",
        "plt.title('Boxplot For Sales Values on the basis of Assortment Level')"
      ],
      "metadata": {
        "id": "kuRf4wtuphqN",
        "colab": {
          "base_uri": "https://localhost:8080/",
          "height": 735
        },
        "outputId": "642a75a4-5fb3-4802-a1de-c99b3cf640c1"
      },
      "execution_count": 34,
      "outputs": [
        {
          "output_type": "execute_result",
          "data": {
            "text/plain": [
              "Text(0.5, 1.0, 'Boxplot For Sales Values on the basis of Assortment Level')"
            ]
          },
          "metadata": {},
          "execution_count": 34
        },
        {
          "output_type": "display_data",
          "data": {
            "text/plain": [
              "<Figure size 1200x800 with 1 Axes>"
            ],
            "image/png": "[encoded data removed]"
          },
          "metadata": {}
        }
      ]
    },
    {
      "cell_type": "markdown",
      "source": [
        "# **Plot between Dayof Week and Open & promo.**"
      ],
      "metadata": {
        "id": "qGBz5JV4TE7Y"
      }
    },
    {
      "cell_type": "markdown",
      "source": [
        "#### Chart - 7"
      ],
      "metadata": {
        "id": "PIIx-8_IphqN"
      }
    },
    {
      "cell_type": "code",
      "source": [
        "# Chart - 7 visualization code\n",
        "sns.countplot(x= 'DayOfWeek', hue='Open', data= ds_final, palette='cool')\n",
        "plt.title('Store Daily Open Countplot')"
      ],
      "metadata": {
        "id": "lqAIGUfyphqO",
        "colab": {
          "base_uri": "https://localhost:8080/",
          "height": 489
        },
        "outputId": "95e7fe1f-86cb-42ef-f9e9-43b49e832360"
      },
      "execution_count": 35,
      "outputs": [
        {
          "output_type": "execute_result",
          "data": {
            "text/plain": [
              "Text(0.5, 1.0, 'Store Daily Open Countplot')"
            ]
          },
          "metadata": {},
          "execution_count": 35
        },
        {
          "output_type": "display_data",
          "data": {
            "text/plain": [
              "<Figure size 640x480 with 1 Axes>"
            ],
            "image/png": "[encoded data removed]"
          },
          "metadata": {}
        }
      ]
    },
    {
      "cell_type": "markdown",
      "source": [
        "#### Chart - 8"
      ],
      "metadata": {
        "id": "BZR9WyysphqO"
      }
    },
    {
      "cell_type": "code",
      "source": [
        "# Chart - 8 visualization code\n",
        "sns.countplot(x= 'DayOfWeek', hue='Promo', data= ds_final, palette='cool')\n",
        "plt.title('Store Daily Promo Countplot')"
      ],
      "metadata": {
        "id": "TdPTWpAVphqO",
        "colab": {
          "base_uri": "https://localhost:8080/",
          "height": 489
        },
        "outputId": "bc1406fa-7781-4984-bfa4-47709e831fa7"
      },
      "execution_count": 36,
      "outputs": [
        {
          "output_type": "execute_result",
          "data": {
            "text/plain": [
              "Text(0.5, 1.0, 'Store Daily Promo Countplot')"
            ]
          },
          "metadata": {},
          "execution_count": 36
        },
        {
          "output_type": "display_data",
          "data": {
            "text/plain": [
              "<Figure size 640x480 with 1 Axes>"
            ],
            "image/png": "[encoded data removed]"
          },
          "metadata": {}
        }
      ]
    },
    {
      "cell_type": "markdown",
      "source": [
        "#### Chart - 9"
      ],
      "metadata": {
        "id": "YJ55k-q6phqO"
      }
    },
    {
      "cell_type": "code",
      "source": [
        "# Chart - 9 visualization code\n",
        "promo_sales = sns.barplot(x=\"Promo\", y=\"Sales\", data=ds_final, palette='RdPu')"
      ],
      "metadata": {
        "id": "B2aS4O1ophqO",
        "colab": {
          "base_uri": "https://localhost:8080/",
          "height": 449
        },
        "outputId": "f369b48a-623e-4e03-cc8f-79eb32591610"
      },
      "execution_count": 37,
      "outputs": [
        {
          "output_type": "display_data",
          "data": {
            "text/plain": [
              "<Figure size 640x480 with 1 Axes>"
            ],
            "image/png": "[encoded data removed]"
          },
          "metadata": {}
        }
      ]
    },
    {
      "cell_type": "markdown",
      "source": [
        "Barplot between promo and Sales shows the effect of promotion on Sales. Here 0 represents the store which didnt opt for promotion and 1 represents for stores who opt for promotion. Those store who took promotions their sales are high as compared to stores who didnt took promotion."
      ],
      "metadata": {
        "id": "l8msk_SUU7XW"
      }
    }
  ]
}